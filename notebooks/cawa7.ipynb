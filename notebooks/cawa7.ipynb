{
 "cells": [
  {
   "cell_type": "markdown",
   "metadata": {},
   "source": [
    "# Загрузка Order book из CSV"
   ]
  },
  {
   "cell_type": "code",
   "execution_count": 31,
   "metadata": {},
   "outputs": [],
   "source": [
    "import pandas as pd\n",
    "from sqlalchemy import create_engine\n",
    "import numpy as np\n",
    "from sklearn import linear_model\n",
    "from sklearn.linear_model import LogisticRegression\n",
    "from sklearn.linear_model import LinearRegression\n",
    "from sklearn import metrics\n",
    "from sklearn.cross_validation import cross_val_score\n",
    "from sklearn.cross_validation import cross_val_predict\n",
    "import datetime as dt\n",
    "import matplotlib.pyplot as plt\n",
    "%matplotlib inline\n",
    "from alex.database import Database\n",
    "from pprint import pprint"
   ]
  },
  {
   "cell_type": "markdown",
   "metadata": {},
   "source": [
    "### Скоростная загрузка с диска, из заархивированного CSV-файла"
   ]
  },
  {
   "cell_type": "code",
   "execution_count": 32,
   "metadata": {},
   "outputs": [],
   "source": [
    "# результат выполнения запроса:\n",
    "# select * from tvf_get_order_book_snapshots(2880) where exchange='binance' and pair='ETH/USDT' # запрос на 20 минут\n",
    "#order = pd.read_csv('tvf_get_order_book_snapshots 15.09.2018-01.10.2018.zip', index_col='dt')"
   ]
  },
  {
   "cell_type": "code",
   "execution_count": 33,
   "metadata": {},
   "outputs": [],
   "source": [
    "# загрузка истории\n",
    "# 15 секунд\n",
    "db = Database()\n",
    "sql_history = f\"select * from v_history with (snapshot) where exchange='binance' and pair='ETH/USDT' and dt>'2018-09-23'\"\n",
    "df_history = db.query(sql_history)\n",
    "df_history.set_index('dt', inplace=True)"
   ]
  },
  {
   "cell_type": "code",
   "execution_count": 34,
   "metadata": {},
   "outputs": [
    {
     "data": {
      "text/plain": [
       "1131253"
      ]
     },
     "execution_count": 34,
     "metadata": {},
     "output_type": "execute_result"
    }
   ],
   "source": [
    "len(df_history)"
   ]
  },
  {
   "cell_type": "markdown",
   "metadata": {},
   "source": [
    "### Получение Order Book в другом виде, напрямую из исторической таблицы dbo.order_book"
   ]
  },
  {
   "cell_type": "markdown",
   "metadata": {},
   "source": [
    "Это не снимки, а только новые записи, добавляемые в order book в момент отрабатывания воркера. Поля ValidFrom и ValidTill показывают время жизни каждого ордера"
   ]
  },
  {
   "cell_type": "code",
   "execution_count": 35,
   "metadata": {},
   "outputs": [],
   "source": [
    "# должно быть около 30 секунд\n",
    "sql_orderbook = \"SELECT *, ValidFrom, ValidTill FROM mem.order_book for system_time from '2018-09-23 00:00:00' to '2018-10-01 00:00:00' where id_ex_pair=19\"\n",
    "# id_ex_pair=19 - это Binance + ETH/USDT\n",
    "df_orderbook = db.query(sql_orderbook)"
   ]
  },
  {
   "cell_type": "code",
   "execution_count": 36,
   "metadata": {},
   "outputs": [],
   "source": [
    "df_orderbook['dt'] = pd.to_datetime(df_orderbook.dt)\n",
    "df_orderbook['id'] = df_orderbook['id'].astype(int)\n",
    "df_orderbook['ValidFrom'] = pd.to_datetime(df_orderbook.ValidFrom)\n",
    "df_orderbook['ValidTill'] = pd.to_datetime(df_orderbook.ValidTill)\n",
    "del df_orderbook['id_ex_pair']"
   ]
  },
  {
   "cell_type": "code",
   "execution_count": 37,
   "metadata": {},
   "outputs": [],
   "source": [
    "# dt - время загрузки, id - порядковый номер записи, обычный инкремент identity(1,1)\n",
    "df_orderbook.sort_values(['dt','id'], inplace=True)\n",
    "df_orderbook.set_index(['dt','id'], inplace=True)"
   ]
  },
  {
   "cell_type": "markdown",
   "metadata": {},
   "source": [
    "##### Скрипт загружает Order Book 1 раз в 3 секунды. Интервалы более 3 секунд между соседними записями могут означать, что Order Book не менялся, либо по каким-то причинам увеличилось время срабатывания скрипта"
   ]
  },
  {
   "cell_type": "code",
   "execution_count": 38,
   "metadata": {},
   "outputs": [
    {
     "data": {
      "text/html": [
       "<div>\n",
       "<style scoped>\n",
       "    .dataframe tbody tr th:only-of-type {\n",
       "        vertical-align: middle;\n",
       "    }\n",
       "\n",
       "    .dataframe tbody tr th {\n",
       "        vertical-align: top;\n",
       "    }\n",
       "\n",
       "    .dataframe thead th {\n",
       "        text-align: right;\n",
       "    }\n",
       "</style>\n",
       "<table border=\"1\" class=\"dataframe\">\n",
       "  <thead>\n",
       "    <tr style=\"text-align: right;\">\n",
       "      <th></th>\n",
       "      <th></th>\n",
       "      <th>is_bid</th>\n",
       "      <th>price</th>\n",
       "      <th>amount</th>\n",
       "      <th>ValidFrom</th>\n",
       "      <th>ValidTill</th>\n",
       "    </tr>\n",
       "    <tr>\n",
       "      <th>dt</th>\n",
       "      <th>id</th>\n",
       "      <th></th>\n",
       "      <th></th>\n",
       "      <th></th>\n",
       "      <th></th>\n",
       "      <th></th>\n",
       "    </tr>\n",
       "  </thead>\n",
       "  <tbody>\n",
       "    <tr>\n",
       "      <th>2018-09-22 21:38:49</th>\n",
       "      <th>10674654</th>\n",
       "      <td>False</td>\n",
       "      <td>242.78</td>\n",
       "      <td>0.20449</td>\n",
       "      <td>2018-09-22 21:38:50</td>\n",
       "      <td>2018-09-23 01:06:12</td>\n",
       "    </tr>\n",
       "    <tr>\n",
       "      <th>2018-09-22 21:55:53</th>\n",
       "      <th>10707602</th>\n",
       "      <td>False</td>\n",
       "      <td>242.74</td>\n",
       "      <td>1.25381</td>\n",
       "      <td>2018-09-22 21:55:54</td>\n",
       "      <td>2018-09-23 01:06:27</td>\n",
       "    </tr>\n",
       "    <tr>\n",
       "      <th>2018-09-22 22:44:34</th>\n",
       "      <th>10795140</th>\n",
       "      <td>False</td>\n",
       "      <td>241.98</td>\n",
       "      <td>0.99540</td>\n",
       "      <td>2018-09-22 22:44:35</td>\n",
       "      <td>2018-09-23 00:02:06</td>\n",
       "    </tr>\n",
       "    <tr>\n",
       "      <th>2018-09-22 22:46:46</th>\n",
       "      <th>10798913</th>\n",
       "      <td>False</td>\n",
       "      <td>242.79</td>\n",
       "      <td>0.20728</td>\n",
       "      <td>2018-09-22 22:46:47</td>\n",
       "      <td>2018-09-23 01:06:08</td>\n",
       "    </tr>\n",
       "    <tr>\n",
       "      <th>2018-09-22 22:46:49</th>\n",
       "      <th>10799010</th>\n",
       "      <td>False</td>\n",
       "      <td>242.91</td>\n",
       "      <td>0.05014</td>\n",
       "      <td>2018-09-22 22:46:51</td>\n",
       "      <td>2018-09-23 01:05:54</td>\n",
       "    </tr>\n",
       "  </tbody>\n",
       "</table>\n",
       "</div>"
      ],
      "text/plain": [
       "                              is_bid   price   amount           ValidFrom  \\\n",
       "dt                  id                                                      \n",
       "2018-09-22 21:38:49 10674654   False  242.78  0.20449 2018-09-22 21:38:50   \n",
       "2018-09-22 21:55:53 10707602   False  242.74  1.25381 2018-09-22 21:55:54   \n",
       "2018-09-22 22:44:34 10795140   False  241.98  0.99540 2018-09-22 22:44:35   \n",
       "2018-09-22 22:46:46 10798913   False  242.79  0.20728 2018-09-22 22:46:47   \n",
       "2018-09-22 22:46:49 10799010   False  242.91  0.05014 2018-09-22 22:46:51   \n",
       "\n",
       "                                       ValidTill  \n",
       "dt                  id                            \n",
       "2018-09-22 21:38:49 10674654 2018-09-23 01:06:12  \n",
       "2018-09-22 21:55:53 10707602 2018-09-23 01:06:27  \n",
       "2018-09-22 22:44:34 10795140 2018-09-23 00:02:06  \n",
       "2018-09-22 22:46:46 10798913 2018-09-23 01:06:08  \n",
       "2018-09-22 22:46:49 10799010 2018-09-23 01:05:54  "
      ]
     },
     "execution_count": 38,
     "metadata": {},
     "output_type": "execute_result"
    }
   ],
   "source": [
    "df_orderbook.head()"
   ]
  },
  {
   "cell_type": "code",
   "execution_count": 39,
   "metadata": {},
   "outputs": [],
   "source": [
    "#df_orderbook.ValidFrom.dt.tz_localize('Europe/Moscow')\n",
    "df_orderbook['ValidFromMsc'] = df_orderbook.ValidFrom - pd.Timedelta('03:00:00')\n",
    "df_orderbook['ValidTillMsc'] = df_orderbook.ValidTill - pd.Timedelta('03:00:00')"
   ]
  },
  {
   "cell_type": "code",
   "execution_count": 40,
   "metadata": {},
   "outputs": [
    {
     "data": {
      "text/plain": [
       "(2317073, 7)"
      ]
     },
     "execution_count": 40,
     "metadata": {},
     "output_type": "execute_result"
    }
   ],
   "source": [
    "df_orderbook.shape"
   ]
  },
  {
   "cell_type": "code",
   "execution_count": 41,
   "metadata": {},
   "outputs": [],
   "source": [
    "df_orderbook['volume'] = df_orderbook.price * df_orderbook.amount"
   ]
  },
  {
   "cell_type": "code",
   "execution_count": 42,
   "metadata": {},
   "outputs": [
    {
     "data": {
      "text/html": [
       "<div>\n",
       "<style scoped>\n",
       "    .dataframe tbody tr th:only-of-type {\n",
       "        vertical-align: middle;\n",
       "    }\n",
       "\n",
       "    .dataframe tbody tr th {\n",
       "        vertical-align: top;\n",
       "    }\n",
       "\n",
       "    .dataframe thead th {\n",
       "        text-align: right;\n",
       "    }\n",
       "</style>\n",
       "<table border=\"1\" class=\"dataframe\">\n",
       "  <thead>\n",
       "    <tr style=\"text-align: right;\">\n",
       "      <th></th>\n",
       "      <th></th>\n",
       "      <th>is_bid</th>\n",
       "      <th>price</th>\n",
       "      <th>amount</th>\n",
       "      <th>ValidFrom</th>\n",
       "      <th>ValidTill</th>\n",
       "      <th>ValidFromMsc</th>\n",
       "      <th>ValidTillMsc</th>\n",
       "      <th>volume</th>\n",
       "    </tr>\n",
       "    <tr>\n",
       "      <th>dt</th>\n",
       "      <th>id</th>\n",
       "      <th></th>\n",
       "      <th></th>\n",
       "      <th></th>\n",
       "      <th></th>\n",
       "      <th></th>\n",
       "      <th></th>\n",
       "      <th></th>\n",
       "      <th></th>\n",
       "    </tr>\n",
       "  </thead>\n",
       "  <tbody>\n",
       "    <tr>\n",
       "      <th>2018-09-22 21:38:49</th>\n",
       "      <th>10674654</th>\n",
       "      <td>False</td>\n",
       "      <td>242.78</td>\n",
       "      <td>0.20449</td>\n",
       "      <td>2018-09-22 21:38:50</td>\n",
       "      <td>2018-09-23 01:06:12</td>\n",
       "      <td>2018-09-22 18:38:50</td>\n",
       "      <td>2018-09-22 22:06:12</td>\n",
       "      <td>49.646082</td>\n",
       "    </tr>\n",
       "    <tr>\n",
       "      <th>2018-09-22 21:55:53</th>\n",
       "      <th>10707602</th>\n",
       "      <td>False</td>\n",
       "      <td>242.74</td>\n",
       "      <td>1.25381</td>\n",
       "      <td>2018-09-22 21:55:54</td>\n",
       "      <td>2018-09-23 01:06:27</td>\n",
       "      <td>2018-09-22 18:55:54</td>\n",
       "      <td>2018-09-22 22:06:27</td>\n",
       "      <td>304.349839</td>\n",
       "    </tr>\n",
       "    <tr>\n",
       "      <th>2018-09-22 22:44:34</th>\n",
       "      <th>10795140</th>\n",
       "      <td>False</td>\n",
       "      <td>241.98</td>\n",
       "      <td>0.99540</td>\n",
       "      <td>2018-09-22 22:44:35</td>\n",
       "      <td>2018-09-23 00:02:06</td>\n",
       "      <td>2018-09-22 19:44:35</td>\n",
       "      <td>2018-09-22 21:02:06</td>\n",
       "      <td>240.866892</td>\n",
       "    </tr>\n",
       "    <tr>\n",
       "      <th>2018-09-22 22:46:46</th>\n",
       "      <th>10798913</th>\n",
       "      <td>False</td>\n",
       "      <td>242.79</td>\n",
       "      <td>0.20728</td>\n",
       "      <td>2018-09-22 22:46:47</td>\n",
       "      <td>2018-09-23 01:06:08</td>\n",
       "      <td>2018-09-22 19:46:47</td>\n",
       "      <td>2018-09-22 22:06:08</td>\n",
       "      <td>50.325511</td>\n",
       "    </tr>\n",
       "    <tr>\n",
       "      <th>2018-09-22 22:46:49</th>\n",
       "      <th>10799010</th>\n",
       "      <td>False</td>\n",
       "      <td>242.91</td>\n",
       "      <td>0.05014</td>\n",
       "      <td>2018-09-22 22:46:51</td>\n",
       "      <td>2018-09-23 01:05:54</td>\n",
       "      <td>2018-09-22 19:46:51</td>\n",
       "      <td>2018-09-22 22:05:54</td>\n",
       "      <td>12.179507</td>\n",
       "    </tr>\n",
       "  </tbody>\n",
       "</table>\n",
       "</div>"
      ],
      "text/plain": [
       "                              is_bid   price   amount           ValidFrom  \\\n",
       "dt                  id                                                      \n",
       "2018-09-22 21:38:49 10674654   False  242.78  0.20449 2018-09-22 21:38:50   \n",
       "2018-09-22 21:55:53 10707602   False  242.74  1.25381 2018-09-22 21:55:54   \n",
       "2018-09-22 22:44:34 10795140   False  241.98  0.99540 2018-09-22 22:44:35   \n",
       "2018-09-22 22:46:46 10798913   False  242.79  0.20728 2018-09-22 22:46:47   \n",
       "2018-09-22 22:46:49 10799010   False  242.91  0.05014 2018-09-22 22:46:51   \n",
       "\n",
       "                                       ValidTill        ValidFromMsc  \\\n",
       "dt                  id                                                 \n",
       "2018-09-22 21:38:49 10674654 2018-09-23 01:06:12 2018-09-22 18:38:50   \n",
       "2018-09-22 21:55:53 10707602 2018-09-23 01:06:27 2018-09-22 18:55:54   \n",
       "2018-09-22 22:44:34 10795140 2018-09-23 00:02:06 2018-09-22 19:44:35   \n",
       "2018-09-22 22:46:46 10798913 2018-09-23 01:06:08 2018-09-22 19:46:47   \n",
       "2018-09-22 22:46:49 10799010 2018-09-23 01:05:54 2018-09-22 19:46:51   \n",
       "\n",
       "                                    ValidTillMsc      volume  \n",
       "dt                  id                                        \n",
       "2018-09-22 21:38:49 10674654 2018-09-22 22:06:12   49.646082  \n",
       "2018-09-22 21:55:53 10707602 2018-09-22 22:06:27  304.349839  \n",
       "2018-09-22 22:44:34 10795140 2018-09-22 21:02:06  240.866892  \n",
       "2018-09-22 22:46:46 10798913 2018-09-22 22:06:08   50.325511  \n",
       "2018-09-22 22:46:49 10799010 2018-09-22 22:05:54   12.179507  "
      ]
     },
     "execution_count": 42,
     "metadata": {},
     "output_type": "execute_result"
    }
   ],
   "source": [
    "df_orderbook.head()"
   ]
  },
  {
   "cell_type": "code",
   "execution_count": 43,
   "metadata": {},
   "outputs": [],
   "source": [
    "#df_grouped = pd.DataFrame(columns = ['dt', 'id', 'is_bid', 'price', 'amount', 'ValidFromMsc', 'ValidTillMsc', 'volume'])"
   ]
  },
  {
   "cell_type": "code",
   "execution_count": 44,
   "metadata": {},
   "outputs": [
    {
     "data": {
      "text/plain": [
       "(1131253, 11)"
      ]
     },
     "execution_count": 44,
     "metadata": {},
     "output_type": "execute_result"
    }
   ],
   "source": [
    "df_history.shape"
   ]
  },
  {
   "cell_type": "code",
   "execution_count": 45,
   "metadata": {
    "scrolled": true
   },
   "outputs": [
    {
     "data": {
      "text/plain": [
       "(2317073, 8)"
      ]
     },
     "execution_count": 45,
     "metadata": {},
     "output_type": "execute_result"
    }
   ],
   "source": [
    "df_orderbook.shape"
   ]
  },
  {
   "cell_type": "code",
   "execution_count": 50,
   "metadata": {},
   "outputs": [
    {
     "data": {
      "text/html": [
       "<div>\n",
       "<style scoped>\n",
       "    .dataframe tbody tr th:only-of-type {\n",
       "        vertical-align: middle;\n",
       "    }\n",
       "\n",
       "    .dataframe tbody tr th {\n",
       "        vertical-align: top;\n",
       "    }\n",
       "\n",
       "    .dataframe thead th {\n",
       "        text-align: right;\n",
       "    }\n",
       "</style>\n",
       "<table border=\"1\" class=\"dataframe\">\n",
       "  <thead>\n",
       "    <tr style=\"text-align: right;\">\n",
       "      <th></th>\n",
       "      <th>rownum</th>\n",
       "      <th>id_ex_pair</th>\n",
       "      <th>exchange</th>\n",
       "      <th>pair</th>\n",
       "      <th>price</th>\n",
       "      <th>amount</th>\n",
       "      <th>type</th>\n",
       "      <th>side</th>\n",
       "      <th>id</th>\n",
       "      <th>location</th>\n",
       "      <th>insert_date</th>\n",
       "    </tr>\n",
       "    <tr>\n",
       "      <th>dt</th>\n",
       "      <th></th>\n",
       "      <th></th>\n",
       "      <th></th>\n",
       "      <th></th>\n",
       "      <th></th>\n",
       "      <th></th>\n",
       "      <th></th>\n",
       "      <th></th>\n",
       "      <th></th>\n",
       "      <th></th>\n",
       "      <th></th>\n",
       "    </tr>\n",
       "  </thead>\n",
       "  <tbody>\n",
       "    <tr>\n",
       "      <th>2018-09-26 02:59:58</th>\n",
       "      <td>5496343</td>\n",
       "      <td>19</td>\n",
       "      <td>binance</td>\n",
       "      <td>ETH/USDT</td>\n",
       "      <td>219.610001</td>\n",
       "      <td>0.84415</td>\n",
       "      <td>None</td>\n",
       "      <td>buy</td>\n",
       "      <td>37299194.0</td>\n",
       "      <td>memory</td>\n",
       "      <td>2018-09-26 03:00:02.2166667</td>\n",
       "    </tr>\n",
       "    <tr>\n",
       "      <th>2018-09-26 02:59:58</th>\n",
       "      <td>5496342</td>\n",
       "      <td>19</td>\n",
       "      <td>binance</td>\n",
       "      <td>ETH/USDT</td>\n",
       "      <td>219.509995</td>\n",
       "      <td>0.00174</td>\n",
       "      <td>None</td>\n",
       "      <td>buy</td>\n",
       "      <td>37299192.0</td>\n",
       "      <td>memory</td>\n",
       "      <td>2018-09-26 03:00:02.2166667</td>\n",
       "    </tr>\n",
       "    <tr>\n",
       "      <th>2018-09-26 02:59:58</th>\n",
       "      <td>5496345</td>\n",
       "      <td>19</td>\n",
       "      <td>binance</td>\n",
       "      <td>ETH/USDT</td>\n",
       "      <td>219.619995</td>\n",
       "      <td>4.25755</td>\n",
       "      <td>None</td>\n",
       "      <td>buy</td>\n",
       "      <td>37299195.0</td>\n",
       "      <td>memory</td>\n",
       "      <td>2018-09-26 03:00:02.2166667</td>\n",
       "    </tr>\n",
       "    <tr>\n",
       "      <th>2018-09-26 02:59:58</th>\n",
       "      <td>5496344</td>\n",
       "      <td>19</td>\n",
       "      <td>binance</td>\n",
       "      <td>ETH/USDT</td>\n",
       "      <td>219.619995</td>\n",
       "      <td>0.89826</td>\n",
       "      <td>None</td>\n",
       "      <td>buy</td>\n",
       "      <td>37299193.0</td>\n",
       "      <td>memory</td>\n",
       "      <td>2018-09-26 03:00:02.2166667</td>\n",
       "    </tr>\n",
       "    <tr>\n",
       "      <th>2018-09-26 03:00:00</th>\n",
       "      <td>5496346</td>\n",
       "      <td>19</td>\n",
       "      <td>binance</td>\n",
       "      <td>ETH/USDT</td>\n",
       "      <td>219.500000</td>\n",
       "      <td>0.00001</td>\n",
       "      <td>None</td>\n",
       "      <td>sell</td>\n",
       "      <td>37299196.0</td>\n",
       "      <td>memory</td>\n",
       "      <td>2018-09-26 03:00:02.2166667</td>\n",
       "    </tr>\n",
       "  </tbody>\n",
       "</table>\n",
       "</div>"
      ],
      "text/plain": [
       "                      rownum  id_ex_pair exchange      pair       price  \\\n",
       "dt                                                                        \n",
       "2018-09-26 02:59:58  5496343          19  binance  ETH/USDT  219.610001   \n",
       "2018-09-26 02:59:58  5496342          19  binance  ETH/USDT  219.509995   \n",
       "2018-09-26 02:59:58  5496345          19  binance  ETH/USDT  219.619995   \n",
       "2018-09-26 02:59:58  5496344          19  binance  ETH/USDT  219.619995   \n",
       "2018-09-26 03:00:00  5496346          19  binance  ETH/USDT  219.500000   \n",
       "\n",
       "                      amount  type  side          id location  \\\n",
       "dt                                                              \n",
       "2018-09-26 02:59:58  0.84415  None   buy  37299194.0   memory   \n",
       "2018-09-26 02:59:58  0.00174  None   buy  37299192.0   memory   \n",
       "2018-09-26 02:59:58  4.25755  None   buy  37299195.0   memory   \n",
       "2018-09-26 02:59:58  0.89826  None   buy  37299193.0   memory   \n",
       "2018-09-26 03:00:00  0.00001  None  sell  37299196.0   memory   \n",
       "\n",
       "                                     insert_date  \n",
       "dt                                                \n",
       "2018-09-26 02:59:58  2018-09-26 03:00:02.2166667  \n",
       "2018-09-26 02:59:58  2018-09-26 03:00:02.2166667  \n",
       "2018-09-26 02:59:58  2018-09-26 03:00:02.2166667  \n",
       "2018-09-26 02:59:58  2018-09-26 03:00:02.2166667  \n",
       "2018-09-26 03:00:00  2018-09-26 03:00:02.2166667  "
      ]
     },
     "execution_count": 50,
     "metadata": {},
     "output_type": "execute_result"
    }
   ],
   "source": [
    "df_history.sort_values('dt').head()"
   ]
  },
  {
   "cell_type": "code",
   "execution_count": 56,
   "metadata": {},
   "outputs": [],
   "source": [
    "df_history_test = df_history['2018-09-27 0:00':'2018-09-30 0:00']"
   ]
  },
  {
   "cell_type": "code",
   "execution_count": 57,
   "metadata": {
    "scrolled": true
   },
   "outputs": [
    {
     "data": {
      "text/plain": [
       "(510576, 11)"
      ]
     },
     "execution_count": 57,
     "metadata": {},
     "output_type": "execute_result"
    }
   ],
   "source": [
    "df_history_test.shape"
   ]
  },
  {
   "cell_type": "code",
   "execution_count": 64,
   "metadata": {},
   "outputs": [],
   "source": [
    "df_orderbook.reset_index(inplace=True)\n",
    "df_orderbook_test = df_orderbook[(df_orderbook.dt > '2018-09-27 0:00') & (df_orderbook.dt < '2018-09-30 0:00')]"
   ]
  },
  {
   "cell_type": "code",
   "execution_count": 65,
   "metadata": {},
   "outputs": [
    {
     "data": {
      "text/plain": [
       "(901855, 10)"
      ]
     },
     "execution_count": 65,
     "metadata": {},
     "output_type": "execute_result"
    }
   ],
   "source": [
    "df_orderbook_test.shape"
   ]
  },
  {
   "cell_type": "code",
   "execution_count": 67,
   "metadata": {},
   "outputs": [],
   "source": [
    "df_merged = pd.merge(df_orderbook_test, df_history_test, how='outer', on='dt')"
   ]
  },
  {
   "cell_type": "code",
   "execution_count": 69,
   "metadata": {},
   "outputs": [
    {
     "data": {
      "text/plain": [
       "(2532630, 21)"
      ]
     },
     "execution_count": 69,
     "metadata": {},
     "output_type": "execute_result"
    }
   ],
   "source": [
    "df_merged.shape"
   ]
  },
  {
   "cell_type": "code",
   "execution_count": null,
   "metadata": {},
   "outputs": [],
   "source": []
  }
 ],
 "metadata": {
  "hide_input": false,
  "kernelspec": {
   "display_name": "Python 3",
   "language": "python",
   "name": "python3"
  },
  "language_info": {
   "codemirror_mode": {
    "name": "ipython",
    "version": 3
   },
   "file_extension": ".py",
   "mimetype": "text/x-python",
   "name": "python",
   "nbconvert_exporter": "python",
   "pygments_lexer": "ipython3",
   "version": "3.6.5"
  }
 },
 "nbformat": 4,
 "nbformat_minor": 2
}
