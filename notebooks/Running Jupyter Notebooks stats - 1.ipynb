{
 "cells": [
  {
   "cell_type": "markdown",
   "metadata": {},
   "source": [
    "# Статистика по запущенным сессиям"
   ]
  },
  {
   "cell_type": "code",
   "execution_count": 1,
   "metadata": {},
   "outputs": [],
   "source": [
    "import glob\n",
    "import os.path\n",
    "import posixpath\n",
    "import re\n",
    "import json\n",
    "import subprocess\n",
    "from urllib.request import urlopen"
   ]
  },
  {
   "cell_type": "code",
   "execution_count": 3,
   "metadata": {},
   "outputs": [
    {
     "ename": "TypeError",
     "evalue": "cannot use a string pattern on a bytes-like object",
     "output_type": "error",
     "traceback": [
      "\u001b[1;31m---------------------------------------------------------------------------\u001b[0m",
      "\u001b[1;31mTypeError\u001b[0m                                 Traceback (most recent call last)",
      "\u001b[1;32m<ipython-input-3-44e432c0f936>\u001b[0m in \u001b[0;36m<module>\u001b[1;34m()\u001b[0m\n\u001b[0;32m     23\u001b[0m )\n\u001b[0;32m     24\u001b[0m \u001b[1;32mfor\u001b[0m \u001b[0mline\u001b[0m \u001b[1;32min\u001b[0m \u001b[0mnetstat_ouput\u001b[0m\u001b[1;33m.\u001b[0m\u001b[0msplitlines\u001b[0m\u001b[1;33m(\u001b[0m\u001b[1;32mFalse\u001b[0m\u001b[1;33m)\u001b[0m\u001b[1;33m:\u001b[0m\u001b[1;33m\u001b[0m\u001b[0m\n\u001b[1;32m---> 25\u001b[1;33m     \u001b[0mmatch\u001b[0m \u001b[1;33m=\u001b[0m \u001b[0mnetstat_regex\u001b[0m\u001b[1;33m.\u001b[0m\u001b[0mmatch\u001b[0m\u001b[1;33m(\u001b[0m\u001b[0mline\u001b[0m\u001b[1;33m)\u001b[0m\u001b[1;33m\u001b[0m\u001b[0m\n\u001b[0m\u001b[0;32m     26\u001b[0m     \u001b[1;32mif\u001b[0m \u001b[0mmatch\u001b[0m \u001b[1;32mand\u001b[0m \u001b[0mmatch\u001b[0m\u001b[1;33m.\u001b[0m\u001b[0mlastindex\u001b[0m \u001b[1;33m==\u001b[0m \u001b[1;36m5\u001b[0m\u001b[1;33m:\u001b[0m\u001b[1;33m\u001b[0m\u001b[0m\n\u001b[0;32m     27\u001b[0m         \u001b[0mport\u001b[0m \u001b[1;33m=\u001b[0m \u001b[0mint\u001b[0m\u001b[1;33m(\u001b[0m\u001b[0mmatch\u001b[0m\u001b[1;33m.\u001b[0m\u001b[0mgroup\u001b[0m\u001b[1;33m(\u001b[0m\u001b[1;36m2\u001b[0m\u001b[1;33m)\u001b[0m\u001b[1;33m)\u001b[0m\u001b[1;33m\u001b[0m\u001b[0m\n",
      "\u001b[1;31mTypeError\u001b[0m: cannot use a string pattern on a bytes-like object"
     ]
    }
   ],
   "source": [
    "# the url and port at which your notebook server listens\n",
    "server_path = 'http://10.7.0.19'\n",
    "server_port = 7007\n",
    "# the security directory of the notebook server, containing its connections files\n",
    "server_sec_dir = 'C:/Users/Dodov/.ipython/profile_default/security/'\n",
    "\n",
    "# part 1 : open all the connection json files to find their port numbers\n",
    "kernels = {}\n",
    "for json_path in glob.glob(os.path.join(server_sec_dir, 'kernel-*.json')):\n",
    "    control_port = json.load(open(json_path, 'r'))['control_port']\n",
    "    key = os.path.basename(json_path)[7:-5]\n",
    "    kernels[control_port] = {'control_port': control_port, 'key': key}\n",
    "\n",
    "# part2 : get netstat info for which processes use which tcp ports\n",
    "netstat_ouput = subprocess.check_output(['netstat', '-ano'])\n",
    "# parse the netstat output to map ports to PIDs\n",
    "netstat_regex = re.compile(\n",
    "    \"^\\s+\\w+\\s+\" # protocol word\n",
    "    \"\\d+(\\.\\d+){3}:(\\d+)\\s+\" # local ip:port\n",
    "    \"\\d+(\\.\\d+){3}:(\\d+)\\s+\" # foreign ip:port \n",
    "    \"LISTENING\\s+\" # connection state\n",
    "    \"(\\d+)$\" # PID\n",
    ")\n",
    "for line in netstat_ouput.splitlines(False):\n",
    "    match = netstat_regex.match(line)\n",
    "    if match and match.lastindex == 5:\n",
    "        port = int(match.group(2))\n",
    "        if port in kernels:\n",
    "            pid = int(match.group(5))\n",
    "            kernels[port]['pid'] = pid\n",
    "\n",
    "# reorganize kernels to use 'key' as keys\n",
    "kernels = {kernel['key']: kernel for kernel in kernels.values()}\n",
    "\n",
    "# part 3 : find which kernel corresponds to which notebook\n",
    "# by querying the notebook server api for sessions\n",
    "sessions_url = posixpath.join('%s:%d' % (server_path, server_port),\n",
    "                              'api','sessions')\n",
    "response = urllib2.urlopen(sessions_url).read()\n",
    "for session in json.loads(response):\n",
    "    key = session['kernel']['id']\n",
    "    if key in kernels:\n",
    "        nb_path = os.path.join(session['notebook']['path'],\n",
    "                               session['notebook']['name'])\n",
    "        kernels[key]['nb_path'] = nb_path\n",
    "\n",
    "# now do what you will with the dict. I just print a pretty list version:\n",
    "print(json.dumps(kernels.values(), sort_keys=True, indent=4))"
   ]
  },
  {
   "cell_type": "code",
   "execution_count": null,
   "metadata": {},
   "outputs": [],
   "source": []
  }
 ],
 "metadata": {
  "hide_input": false,
  "kernelspec": {
   "display_name": "Python 3",
   "language": "python",
   "name": "python3"
  },
  "language_info": {
   "codemirror_mode": {
    "name": "ipython",
    "version": 3
   },
   "file_extension": ".py",
   "mimetype": "text/x-python",
   "name": "python",
   "nbconvert_exporter": "python",
   "pygments_lexer": "ipython3",
   "version": "3.6.5"
  }
 },
 "nbformat": 4,
 "nbformat_minor": 2
}
