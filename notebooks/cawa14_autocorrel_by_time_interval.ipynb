{
 "cells": [
  {
   "cell_type": "markdown",
   "metadata": {},
   "source": [
    "# Загрузка Order book из CSV"
   ]
  },
  {
   "cell_type": "code",
   "execution_count": 1,
   "metadata": {},
   "outputs": [],
   "source": [
    "import pandas as pd\n",
    "from sqlalchemy import create_engine\n",
    "import numpy as np\n",
    "from sklearn import linear_model\n",
    "from sklearn.linear_model import LogisticRegression\n",
    "from sklearn.linear_model import LinearRegression\n",
    "from sklearn import metrics\n",
    "#from sklearn.cross_validation import cross_val_score\n",
    "#from sklearn.cross_validation import cross_val_predict\n",
    "import datetime as dt\n",
    "import matplotlib.pyplot as plt\n",
    "%matplotlib inline\n",
    "from alex.database import Database\n",
    "from pprint import pprint\n",
    "from statsmodels.tsa.stattools import adfuller # Расширенный тест Дики-Фуллера\n",
    "from statsmodels.tsa.stattools import acf, pacf\n",
    "from statsmodels.graphics.tsaplots import plot_acf\n",
    "from statsmodels.graphics.tsaplots import plot_pacf\n",
    "from statsmodels.tsa.arima_model import ARIMA\n",
    "from statsmodels.tsa.arima_model import ARIMA, ARMA\n",
    "from statsmodels.tsa.statespace.sarimax import SARIMAX\n",
    "from pandas.plotting import autocorrelation_plot"
   ]
  },
  {
   "cell_type": "markdown",
   "metadata": {},
   "source": [
    "### Скоростная загрузка с диска, из заархивированного CSV-файла"
   ]
  },
  {
   "cell_type": "code",
   "execution_count": 2,
   "metadata": {},
   "outputs": [],
   "source": [
    "# результат выполнения запроса:\n",
    "# select * from tvf_get_order_book_snapshots(2880) where exchange='binance' and pair='ETH/USDT' # запрос на 20 минут\n",
    "#order = pd.read_csv('tvf_get_order_book_snapshots 15.09.2018-01.10.2018.zip', index_col='dt')"
   ]
  },
  {
   "cell_type": "code",
   "execution_count": 3,
   "metadata": {},
   "outputs": [],
   "source": [
    "# загрузка истории\n",
    "# 15 секунд\n",
    "db = Database()\n",
    "sql_history = f\"select * from v_history where exchange='binance' and pair='ETH/USDT' and dt>'2018-09-23'\"\n",
    "df_history = db.query(sql_history)\n",
    "df_history.set_index('dt', inplace=True)"
   ]
  },
  {
   "cell_type": "code",
   "execution_count": 4,
   "metadata": {},
   "outputs": [
    {
     "data": {
      "text/plain": [
       "(2492909, 11)"
      ]
     },
     "execution_count": 4,
     "metadata": {},
     "output_type": "execute_result"
    }
   ],
   "source": [
    "df_history.shape"
   ]
  },
  {
   "cell_type": "code",
   "execution_count": 5,
   "metadata": {},
   "outputs": [
    {
     "data": {
      "text/html": [
       "<div>\n",
       "<style scoped>\n",
       "    .dataframe tbody tr th:only-of-type {\n",
       "        vertical-align: middle;\n",
       "    }\n",
       "\n",
       "    .dataframe tbody tr th {\n",
       "        vertical-align: top;\n",
       "    }\n",
       "\n",
       "    .dataframe thead th {\n",
       "        text-align: right;\n",
       "    }\n",
       "</style>\n",
       "<table border=\"1\" class=\"dataframe\">\n",
       "  <thead>\n",
       "    <tr style=\"text-align: right;\">\n",
       "      <th></th>\n",
       "      <th>rownum</th>\n",
       "      <th>id_ex_pair</th>\n",
       "      <th>exchange</th>\n",
       "      <th>pair</th>\n",
       "      <th>price</th>\n",
       "      <th>amount</th>\n",
       "      <th>type</th>\n",
       "      <th>side</th>\n",
       "      <th>id</th>\n",
       "      <th>location</th>\n",
       "      <th>insert_date</th>\n",
       "    </tr>\n",
       "    <tr>\n",
       "      <th>dt</th>\n",
       "      <th></th>\n",
       "      <th></th>\n",
       "      <th></th>\n",
       "      <th></th>\n",
       "      <th></th>\n",
       "      <th></th>\n",
       "      <th></th>\n",
       "      <th></th>\n",
       "      <th></th>\n",
       "      <th></th>\n",
       "      <th></th>\n",
       "    </tr>\n",
       "  </thead>\n",
       "  <tbody>\n",
       "    <tr>\n",
       "      <th>2018-10-16 19:08:33</th>\n",
       "      <td>11483372.0</td>\n",
       "      <td>19</td>\n",
       "      <td>binance</td>\n",
       "      <td>ETH/USDT</td>\n",
       "      <td>213.169998</td>\n",
       "      <td>4.12098</td>\n",
       "      <td>None</td>\n",
       "      <td>sell</td>\n",
       "      <td>39448601.0</td>\n",
       "      <td>memory</td>\n",
       "      <td>2018-10-16 19:08:35.5100000</td>\n",
       "    </tr>\n",
       "    <tr>\n",
       "      <th>2018-10-16 19:08:34</th>\n",
       "      <td>11483373.0</td>\n",
       "      <td>19</td>\n",
       "      <td>binance</td>\n",
       "      <td>ETH/USDT</td>\n",
       "      <td>213.240005</td>\n",
       "      <td>0.00004</td>\n",
       "      <td>None</td>\n",
       "      <td>buy</td>\n",
       "      <td>39448602.0</td>\n",
       "      <td>memory</td>\n",
       "      <td>2018-10-16 19:08:35.5100000</td>\n",
       "    </tr>\n",
       "    <tr>\n",
       "      <th>2018-10-16 19:08:35</th>\n",
       "      <td>11483378.0</td>\n",
       "      <td>19</td>\n",
       "      <td>binance</td>\n",
       "      <td>ETH/USDT</td>\n",
       "      <td>213.169998</td>\n",
       "      <td>0.43599</td>\n",
       "      <td>None</td>\n",
       "      <td>sell</td>\n",
       "      <td>39448603.0</td>\n",
       "      <td>memory</td>\n",
       "      <td>2018-10-16 19:08:38.2833333</td>\n",
       "    </tr>\n",
       "    <tr>\n",
       "      <th>2018-10-16 19:08:35</th>\n",
       "      <td>11483379.0</td>\n",
       "      <td>19</td>\n",
       "      <td>binance</td>\n",
       "      <td>ETH/USDT</td>\n",
       "      <td>213.240005</td>\n",
       "      <td>1.07651</td>\n",
       "      <td>None</td>\n",
       "      <td>buy</td>\n",
       "      <td>39448604.0</td>\n",
       "      <td>memory</td>\n",
       "      <td>2018-10-16 19:08:38.2833333</td>\n",
       "    </tr>\n",
       "    <tr>\n",
       "      <th>2018-10-16 19:08:36</th>\n",
       "      <td>11483380.0</td>\n",
       "      <td>19</td>\n",
       "      <td>binance</td>\n",
       "      <td>ETH/USDT</td>\n",
       "      <td>213.169998</td>\n",
       "      <td>0.56299</td>\n",
       "      <td>None</td>\n",
       "      <td>sell</td>\n",
       "      <td>39448605.0</td>\n",
       "      <td>memory</td>\n",
       "      <td>2018-10-16 19:08:38.2833333</td>\n",
       "    </tr>\n",
       "  </tbody>\n",
       "</table>\n",
       "</div>"
      ],
      "text/plain": [
       "                         rownum  id_ex_pair exchange      pair       price  \\\n",
       "dt                                                                           \n",
       "2018-10-16 19:08:33  11483372.0          19  binance  ETH/USDT  213.169998   \n",
       "2018-10-16 19:08:34  11483373.0          19  binance  ETH/USDT  213.240005   \n",
       "2018-10-16 19:08:35  11483378.0          19  binance  ETH/USDT  213.169998   \n",
       "2018-10-16 19:08:35  11483379.0          19  binance  ETH/USDT  213.240005   \n",
       "2018-10-16 19:08:36  11483380.0          19  binance  ETH/USDT  213.169998   \n",
       "\n",
       "                      amount  type  side          id location  \\\n",
       "dt                                                              \n",
       "2018-10-16 19:08:33  4.12098  None  sell  39448601.0   memory   \n",
       "2018-10-16 19:08:34  0.00004  None   buy  39448602.0   memory   \n",
       "2018-10-16 19:08:35  0.43599  None  sell  39448603.0   memory   \n",
       "2018-10-16 19:08:35  1.07651  None   buy  39448604.0   memory   \n",
       "2018-10-16 19:08:36  0.56299  None  sell  39448605.0   memory   \n",
       "\n",
       "                                     insert_date  \n",
       "dt                                                \n",
       "2018-10-16 19:08:33  2018-10-16 19:08:35.5100000  \n",
       "2018-10-16 19:08:34  2018-10-16 19:08:35.5100000  \n",
       "2018-10-16 19:08:35  2018-10-16 19:08:38.2833333  \n",
       "2018-10-16 19:08:35  2018-10-16 19:08:38.2833333  \n",
       "2018-10-16 19:08:36  2018-10-16 19:08:38.2833333  "
      ]
     },
     "execution_count": 5,
     "metadata": {},
     "output_type": "execute_result"
    }
   ],
   "source": [
    "df_history.sort_values('dt').tail()"
   ]
  },
  {
   "cell_type": "code",
   "execution_count": 8,
   "metadata": {},
   "outputs": [],
   "source": [
    "# # #перевод в нужные интервалы\n",
    "# interval = 60 # minutes\n",
    "\n",
    "# df = df_history[['price', 'amount']].resample(str(interval)+'min').ohlc()\n",
    "# hist = df_history[['price', 'amount']].resample(str(interval)+'min').mean()\n",
    "# # hist.shape"
   ]
  },
  {
   "cell_type": "code",
   "execution_count": 11,
   "metadata": {},
   "outputs": [],
   "source": [
    "plt.rcParams['figure.figsize'] = [16, 9]"
   ]
  },
  {
   "cell_type": "code",
   "execution_count": 31,
   "metadata": {
    "scrolled": false
   },
   "outputs": [
    {
     "name": "stdout",
     "output_type": "stream",
     "text": [
      "расчет для лага = 1\n"
     ]
    }
   ],
   "source": [
    "mylist=[]\n",
    "lag_no = 1 #номер лага, по которому мы хотим найти наиболее подходящий временной промежуток\n",
    "\n",
    "print('расчет для лага =', lag_no)\n",
    "\n",
    "for i in range(1,1000):\n",
    "    h = df_history[['price']].resample(str(i)+'min').mean()\n",
    "    a = acf(h[0:len(h)].price.diff().dropna(), nlags=lag_no)[lag_no]\n",
    "    mylist.append(a)\n",
    "    #print(i,a)\n",
    "\n",
    "# то же самое через comprehension\n",
    "#mylist=[acf(df_history[['price']].resample(str(i)+'min').mean()[0:len(df_history[['price']].resample(str(i)+'min'))].price.diff().dropna(),nlags=2)[2] for i in range(1,120)]"
   ]
  },
  {
   "cell_type": "code",
   "execution_count": 32,
   "metadata": {},
   "outputs": [],
   "source": [
    "corr_lag = pd.DataFrame(mylist, columns=['autocorrelations'])"
   ]
  },
  {
   "cell_type": "code",
   "execution_count": 33,
   "metadata": {},
   "outputs": [
    {
     "data": {
      "image/png": "[encoded data removed]",
      "text/plain": [
       "<Figure size 1152x648 with 1 Axes>"
      ]
     },
     "metadata": {},
     "output_type": "display_data"
    }
   ],
   "source": [
    "_=corr_lag.autocorrelations.plot(kind='kde')"
   ]
  },
  {
   "cell_type": "code",
   "execution_count": 34,
   "metadata": {
    "scrolled": false
   },
   "outputs": [
    {
     "name": "stdout",
     "output_type": "stream",
     "text": [
      "расчет для лага = 1\n"
     ]
    },
    {
     "data": {
      "text/plain": [
       "977    0.361822\n",
       "733    0.355807\n",
       "949    0.353232\n",
       "750    0.347963\n",
       "978    0.344776\n",
       "28     0.342420\n",
       "950    0.340112\n",
       "734    0.340106\n",
       "948    0.339407\n",
       "751    0.337038\n",
       "951    0.332519\n",
       "827    0.331378\n",
       "979    0.329059\n",
       "873    0.328905\n",
       "874    0.328792\n",
       "38     0.327187\n",
       "875    0.325848\n",
       "952    0.325690\n",
       "953    0.324107\n",
       "872    0.323887\n",
       "31     0.323551\n",
       "689    0.323387\n",
       "752    0.321249\n",
       "876    0.321171\n",
       "690    0.320909\n",
       "954    0.319735\n",
       "903    0.319133\n",
       "976    0.317285\n",
       "32     0.315424\n",
       "877    0.313745\n",
       "Name: autocorrelations, dtype: float64"
      ]
     },
     "execution_count": 34,
     "metadata": {},
     "output_type": "execute_result"
    }
   ],
   "source": [
    "#рекомендованный временной интервал для группировки datetime\n",
    "\n",
    "print ('расчет для лага =', lag_no)\n",
    "corr_lag.autocorrelations.sort_values(ascending=False).head(30)"
   ]
  },
  {
   "cell_type": "code",
   "execution_count": null,
   "metadata": {},
   "outputs": [],
   "source": []
  }
 ],
 "metadata": {
  "hide_input": false,
  "kernelspec": {
   "display_name": "Python 3",
   "language": "python",
   "name": "python3"
  },
  "language_info": {
   "codemirror_mode": {
    "name": "ipython",
    "version": 3
   },
   "file_extension": ".py",
   "mimetype": "text/x-python",
   "name": "python",
   "nbconvert_exporter": "python",
   "pygments_lexer": "ipython3",
   "version": "3.6.5"
  }
 },
 "nbformat": 4,
 "nbformat_minor": 2
}
