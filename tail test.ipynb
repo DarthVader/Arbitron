{
 "cells": [
  {
   "cell_type": "code",
   "execution_count": 1,
   "metadata": {
    "ExecuteTime": {
     "end_time": "2018-05-10T19:24:27.776582Z",
     "start_time": "2018-05-10T19:24:24.697479Z"
    }
   },
   "outputs": [],
   "source": [
    "import os\n",
    "#import tailer\n",
    "import pandas as pd"
   ]
  },
  {
   "cell_type": "code",
   "execution_count": 10,
   "metadata": {
    "ExecuteTime": {
     "end_time": "2018-05-10T19:25:52.138313Z",
     "start_time": "2018-05-10T19:25:52.091471Z"
    }
   },
   "outputs": [],
   "source": [
    "directory = '{}\\\\csv\\\\history'.format(os.getcwd())\n",
    "files = []\n",
    "for filename in os.listdir(directory):\n",
    "    if filename.endswith(\".csv\"): \n",
    "        files.append(os.path.join('{}\\\\{}'.format(directory, filename)))"
   ]
  },
  {
   "cell_type": "code",
   "execution_count": 11,
   "metadata": {
    "ExecuteTime": {
     "end_time": "2018-05-10T19:25:53.154132Z",
     "start_time": "2018-05-10T19:25:53.029088Z"
    }
   },
   "outputs": [],
   "source": [
    "def tail2(f, lines=1, _buffer=4098):\n",
    "    \"\"\"Tail a file and get X lines from the end\"\"\"\n",
    "    # place holder for the lines found\n",
    "    lines_found = []\n",
    "\n",
    "    # block counter will be multiplied by buffer\n",
    "    # to get the block size from the end\n",
    "    block_counter = -1\n",
    "\n",
    "    # loop until we find X lines\n",
    "    while len(lines_found) < lines:\n",
    "        try:\n",
    "            f.seek(block_counter * _buffer, os.SEEK_END)\n",
    "        except IOError:  # either file is too small, or too many lines requested\n",
    "            f.seek(0)\n",
    "            lines_found = f.readlines()\n",
    "            break\n",
    "\n",
    "        lines_found = f.readlines()\n",
    "\n",
    "        # we found enough lines, get out\n",
    "        # Removed this line because it was redundant the while will catch\n",
    "        # it, I left it for history\n",
    "        # if len(lines_found) > lines:\n",
    "        #    break\n",
    "\n",
    "        # decrement the block counter to get the\n",
    "        # next X bytes\n",
    "        block_counter -= 1\n",
    "\n",
    "    return lines_found[-lines:]"
   ]
  },
  {
   "cell_type": "code",
   "execution_count": 12,
   "metadata": {
    "ExecuteTime": {
     "end_time": "2018-05-10T19:25:53.951006Z",
     "start_time": "2018-05-10T19:25:53.888554Z"
    }
   },
   "outputs": [],
   "source": [
    "def tail1(f, n, offset=None):\n",
    "    \"\"\"Reads a n lines from f with an offset of offset lines.  The return\n",
    "    value is a tuple in the form ``(lines, has_more)`` where `has_more` is\n",
    "    an indicator that is `True` if there are more lines in the file.\n",
    "    \"\"\"\n",
    "    avg_line_length = 74\n",
    "    to_read = n + (offset or 0)\n",
    "\n",
    "    while 1:\n",
    "        try:\n",
    "            f.seek(-(avg_line_length * to_read), 2)\n",
    "        except IOError:\n",
    "            # woops.  apparently file is smaller than what we want\n",
    "            # to step back, go to the beginning instead\n",
    "            f.seek(0)\n",
    "        pos = f.tell()\n",
    "        lines = f.read().splitlines()\n",
    "        if len(lines) >= to_read or pos == 0:\n",
    "            return lines[-to_read:offset and -offset or None], \\\n",
    "                   len(lines) > to_read or pos > 0\n",
    "        avg_line_length *= 1.3"
   ]
  },
  {
   "cell_type": "code",
   "execution_count": 13,
   "metadata": {
    "ExecuteTime": {
     "end_time": "2018-05-10T19:25:54.747969Z",
     "start_time": "2018-05-10T19:25:54.685469Z"
    }
   },
   "outputs": [],
   "source": [
    "def tail3(f, n):\n",
    "    \"\"\"\n",
    "    Function is a wrapper for UNIX tail function. \n",
    "    If you're on Windows, install UnxUtils from https://sourceforge.net/projects/unxutils/\n",
    "    Extract archive and add usr\\local\\wbin to environment PATH variable.\n",
    "    \"\"\"\n",
    "    try:\n",
    "        stdout = os.popen(\"tail -n {} {}\".format(n, f))\n",
    "        lines = [x.replace('\\n', '') for x in stdout.readlines()]\n",
    "        stdout.close()\n",
    "    except:\n",
    "        print(\"You have to install 'tail' utility. For Windows check UnxUtils from \\n\" +\n",
    "              \"https://sourceforge.net/projects/unxutils\")\n",
    "    return lines"
   ]
  },
  {
   "cell_type": "code",
   "execution_count": 14,
   "metadata": {
    "ExecuteTime": {
     "end_time": "2018-05-10T19:26:07.108688Z",
     "start_time": "2018-05-10T19:26:07.077426Z"
    }
   },
   "outputs": [
    {
     "data": {
      "text/plain": [
       "'c:\\\\Git\\\\Arbitron\\\\csv\\\\history\\\\Binance.ETH-USDT.csv'"
      ]
     },
     "execution_count": 14,
     "metadata": {},
     "output_type": "execute_result"
    }
   ],
   "source": [
    "files[16]"
   ]
  },
  {
   "cell_type": "code",
   "execution_count": 15,
   "metadata": {
    "ExecuteTime": {
     "end_time": "2018-05-10T19:26:19.112585Z",
     "start_time": "2018-05-10T19:26:19.081304Z"
    }
   },
   "outputs": [],
   "source": [
    "f = open(files[16], \"r\")"
   ]
  },
  {
   "cell_type": "markdown",
   "metadata": {},
   "source": [
    "## check opening large 400Mb file "
   ]
  },
  {
   "cell_type": "markdown",
   "metadata": {},
   "source": [
    "C:\\Users\\Queen\\Prog\\.bitfinexUSD.csv"
   ]
  },
  {
   "cell_type": "code",
   "execution_count": 17,
   "metadata": {
    "ExecuteTime": {
     "end_time": "2018-05-10T19:26:34.020413Z",
     "start_time": "2018-05-10T19:26:30.926336Z"
    }
   },
   "outputs": [
    {
     "data": {
      "text/plain": [
       "(['1482410598,853.480000000000,0.119000000000'], True)"
      ]
     },
     "execution_count": 17,
     "metadata": {},
     "output_type": "execute_result"
    }
   ],
   "source": [
    "tail1(open(\"C:\\\\Users\\\\Queen\\\\Prog\\\\.bitfinexUSD.csv\", \"r\"), 1)"
   ]
  },
  {
   "cell_type": "code",
   "execution_count": 18,
   "metadata": {
    "ExecuteTime": {
     "end_time": "2018-05-10T19:26:38.536563Z",
     "start_time": "2018-05-10T19:26:35.270552Z"
    }
   },
   "outputs": [
    {
     "data": {
      "text/plain": [
       "['1482410598,853.480000000000,0.119000000000\\n']"
      ]
     },
     "execution_count": 18,
     "metadata": {},
     "output_type": "execute_result"
    }
   ],
   "source": [
    "tail2(open(\"C:\\\\Users\\\\Queen\\\\Prog\\\\.bitfinexUSD.csv\", \"r\"), 1)"
   ]
  },
  {
   "cell_type": "code",
   "execution_count": 19,
   "metadata": {
    "ExecuteTime": {
     "end_time": "2018-05-10T19:26:41.271201Z",
     "start_time": "2018-05-10T19:26:41.224891Z"
    }
   },
   "outputs": [
    {
     "data": {
      "text/plain": [
       "['1482410598,853.480000000000,0.119000000000']"
      ]
     },
     "execution_count": 19,
     "metadata": {},
     "output_type": "execute_result"
    }
   ],
   "source": [
    "tail3(\"C:\\\\Users\\\\Queen\\\\Prog\\\\.bitfinexUSD.csv\", 1)"
   ]
  },
  {
   "cell_type": "code",
   "execution_count": 20,
   "metadata": {
    "ExecuteTime": {
     "end_time": "2018-05-10T19:26:47.119995Z",
     "start_time": "2018-05-10T19:26:47.088743Z"
    }
   },
   "outputs": [
    {
     "data": {
      "text/plain": [
       "'1482410597,853.400000000000,2.431919350000\\n'"
      ]
     },
     "execution_count": 20,
     "metadata": {},
     "output_type": "execute_result"
    }
   ],
   "source": [
    "os.popen(\"tail -n 2 C:\\\\Users\\\\Queen\\\\Prog\\\\.bitfinexUSD.csv\").readline()"
   ]
  },
  {
   "cell_type": "code",
   "execution_count": null,
   "metadata": {},
   "outputs": [],
   "source": []
  }
 ],
 "metadata": {
  "hide_input": false,
  "kernelspec": {
   "display_name": "Python 3",
   "language": "python",
   "name": "python3"
  },
  "language_info": {
   "codemirror_mode": {
    "name": "ipython",
    "version": 3
   },
   "file_extension": ".py",
   "mimetype": "text/x-python",
   "name": "python",
   "nbconvert_exporter": "python",
   "pygments_lexer": "ipython3",
   "version": "3.6.4"
  }
 },
 "nbformat": 4,
 "nbformat_minor": 2
}
