{
 "cells": [
  {
   "cell_type": "markdown",
   "metadata": {},
   "source": [
    "# Workers ring fire monitoring"
   ]
  },
  {
   "cell_type": "code",
   "execution_count": 87,
   "metadata": {
    "ExecuteTime": {
     "end_time": "2018-06-29T14:05:46.793132Z",
     "start_time": "2018-06-29T14:05:46.784531Z"
    }
   },
   "outputs": [],
   "source": [
    "import numpy as np\n",
    "import pandas as pd\n",
    "import time\n",
    "import matplotlib.pyplot as plt\n",
    "from datetime import datetime, timedelta\n",
    "from cassandra.cluster import Cluster\n",
    "from cassandra.auth import PlainTextAuthenticator\n",
    "from cassandra.query import dict_factory\n",
    "plt.style.use('seaborn-white')\n",
    "%matplotlib inline"
   ]
  },
  {
   "cell_type": "code",
   "execution_count": 2,
   "metadata": {
    "ExecuteTime": {
     "end_time": "2018-06-29T11:21:57.937280Z",
     "start_time": "2018-06-29T11:21:57.932881Z"
    }
   },
   "outputs": [],
   "source": [
    "def pandas_factory(colnames, rows):\n",
    "    return pd.DataFrame(rows, columns=colnames)"
   ]
  },
  {
   "cell_type": "code",
   "execution_count": 3,
   "metadata": {
    "ExecuteTime": {
     "end_time": "2018-06-29T11:22:35.511073Z",
     "start_time": "2018-06-29T11:22:35.506905Z"
    }
   },
   "outputs": [],
   "source": [
    "seeds = ['127.0.0.1', '10.7.0.10', '10.7.0.21']"
   ]
  },
  {
   "cell_type": "code",
   "execution_count": 4,
   "metadata": {
    "ExecuteTime": {
     "end_time": "2018-06-29T11:22:39.709122Z",
     "start_time": "2018-06-29T11:22:39.700064Z"
    }
   },
   "outputs": [],
   "source": [
    "cluster = Cluster(contact_points=seeds, port=9042) #, auth_provider=auth_provider)"
   ]
  },
  {
   "cell_type": "code",
   "execution_count": 99,
   "metadata": {
    "ExecuteTime": {
     "end_time": "2018-06-29T14:10:00.304116Z",
     "start_time": "2018-06-29T14:10:00.040120Z"
    }
   },
   "outputs": [],
   "source": [
    "session = cluster.connect(keyspace='temp')\n",
    "session.row_factory = pandas_factory\n",
    "session.default_fetch_size = 50"
   ]
  },
  {
   "cell_type": "code",
   "execution_count": 340,
   "metadata": {
    "ExecuteTime": {
     "end_time": "2018-06-29T18:58:07.394389Z",
     "start_time": "2018-06-29T18:58:07.281256Z"
    },
    "hide_input": false,
    "scrolled": false
   },
   "outputs": [
    {
     "data": {
      "text/html": [
       "<div>\n",
       "<style scoped>\n",
       "    .dataframe tbody tr th:only-of-type {\n",
       "        vertical-align: middle;\n",
       "    }\n",
       "\n",
       "    .dataframe tbody tr th {\n",
       "        vertical-align: top;\n",
       "    }\n",
       "\n",
       "    .dataframe thead th {\n",
       "        text-align: right;\n",
       "    }\n",
       "</style>\n",
       "<table border=\"1\" class=\"dataframe\">\n",
       "  <thead>\n",
       "    <tr style=\"text-align: right;\">\n",
       "      <th></th>\n",
       "      <th>ip</th>\n",
       "      <th>last_run</th>\n",
       "      <th>worker_last_run</th>\n",
       "      <th>message</th>\n",
       "      <th>workers_count</th>\n",
       "      <th>timestamp</th>\n",
       "    </tr>\n",
       "    <tr>\n",
       "      <th>date</th>\n",
       "      <th></th>\n",
       "      <th></th>\n",
       "      <th></th>\n",
       "      <th></th>\n",
       "      <th></th>\n",
       "      <th></th>\n",
       "    </tr>\n",
       "  </thead>\n",
       "  <tbody>\n",
       "    <tr>\n",
       "      <th>2018-06-29 16:56:52.885</th>\n",
       "      <td>79.111.12.34</td>\n",
       "      <td>2018-06-29 16:56:49.793</td>\n",
       "      <td>2018-06-29 16:56:49.793</td>\n",
       "      <td>worker=GORO, delay=3000</td>\n",
       "      <td>2</td>\n",
       "      <td>1530291412885</td>\n",
       "    </tr>\n",
       "    <tr>\n",
       "      <th>2018-06-29 16:56:49.546</th>\n",
       "      <td>79.111.12.34</td>\n",
       "      <td>2018-06-29 16:56:46.216</td>\n",
       "      <td>2018-06-29 16:56:46.216</td>\n",
       "      <td>worker=GORO, delay=3000</td>\n",
       "      <td>2</td>\n",
       "      <td>1530291409545</td>\n",
       "    </tr>\n",
       "    <tr>\n",
       "      <th>2018-06-29 16:56:47.585</th>\n",
       "      <td>195.68.129.2</td>\n",
       "      <td>2018-06-29 16:56:44.719</td>\n",
       "      <td>2018-06-29 16:56:44.719</td>\n",
       "      <td>worker=Ganymede, delay=3000</td>\n",
       "      <td>2</td>\n",
       "      <td>1530291407585</td>\n",
       "    </tr>\n",
       "    <tr>\n",
       "      <th>2018-06-29 16:56:46.322</th>\n",
       "      <td>79.111.12.34</td>\n",
       "      <td>2018-06-29 16:56:43.031</td>\n",
       "      <td>2018-06-29 16:56:43.031</td>\n",
       "      <td>worker=GORO, delay=3000</td>\n",
       "      <td>2</td>\n",
       "      <td>1530291406321</td>\n",
       "    </tr>\n",
       "    <tr>\n",
       "      <th>2018-06-29 16:56:44.597</th>\n",
       "      <td>195.68.129.2</td>\n",
       "      <td>2018-06-29 16:56:41.655</td>\n",
       "      <td>2018-06-29 16:56:41.655</td>\n",
       "      <td>worker=Ganymede, delay=3000</td>\n",
       "      <td>2</td>\n",
       "      <td>1530291404597</td>\n",
       "    </tr>\n",
       "    <tr>\n",
       "      <th>2018-06-29 16:56:42.955</th>\n",
       "      <td>79.111.12.34</td>\n",
       "      <td>2018-06-29 16:56:39.633</td>\n",
       "      <td>2018-06-29 16:56:39.633</td>\n",
       "      <td>worker=GORO, delay=3000</td>\n",
       "      <td>2</td>\n",
       "      <td>1530291402955</td>\n",
       "    </tr>\n",
       "    <tr>\n",
       "      <th>2018-06-29 16:56:41.387</th>\n",
       "      <td>195.68.129.2</td>\n",
       "      <td>2018-06-29 16:56:38.523</td>\n",
       "      <td>2018-06-29 16:56:38.523</td>\n",
       "      <td>worker=Ganymede, delay=3000</td>\n",
       "      <td>2</td>\n",
       "      <td>1530291401387</td>\n",
       "    </tr>\n",
       "    <tr>\n",
       "      <th>2018-06-29 16:56:39.660</th>\n",
       "      <td>79.111.12.34</td>\n",
       "      <td>2018-06-29 16:56:36.294</td>\n",
       "      <td>2018-06-29 16:56:36.294</td>\n",
       "      <td>worker=GORO, delay=3000</td>\n",
       "      <td>2</td>\n",
       "      <td>1530291399660</td>\n",
       "    </tr>\n",
       "    <tr>\n",
       "      <th>2018-06-29 16:56:38.356</th>\n",
       "      <td>195.68.129.2</td>\n",
       "      <td>2018-06-29 16:56:35.357</td>\n",
       "      <td>2018-06-29 16:56:35.357</td>\n",
       "      <td>worker=Ganymede, delay=3000</td>\n",
       "      <td>2</td>\n",
       "      <td>1530291398356</td>\n",
       "    </tr>\n",
       "    <tr>\n",
       "      <th>2018-06-29 16:56:36.370</th>\n",
       "      <td>79.111.12.34</td>\n",
       "      <td>2018-06-29 16:56:33.084</td>\n",
       "      <td>2018-06-29 16:56:33.084</td>\n",
       "      <td>worker=GORO, delay=3000</td>\n",
       "      <td>2</td>\n",
       "      <td>1530291396369</td>\n",
       "    </tr>\n",
       "  </tbody>\n",
       "</table>\n",
       "</div>"
      ],
      "text/plain": [
       "                                   ip                last_run  \\\n",
       "date                                                            \n",
       "2018-06-29 16:56:52.885  79.111.12.34 2018-06-29 16:56:49.793   \n",
       "2018-06-29 16:56:49.546  79.111.12.34 2018-06-29 16:56:46.216   \n",
       "2018-06-29 16:56:47.585  195.68.129.2 2018-06-29 16:56:44.719   \n",
       "2018-06-29 16:56:46.322  79.111.12.34 2018-06-29 16:56:43.031   \n",
       "2018-06-29 16:56:44.597  195.68.129.2 2018-06-29 16:56:41.655   \n",
       "2018-06-29 16:56:42.955  79.111.12.34 2018-06-29 16:56:39.633   \n",
       "2018-06-29 16:56:41.387  195.68.129.2 2018-06-29 16:56:38.523   \n",
       "2018-06-29 16:56:39.660  79.111.12.34 2018-06-29 16:56:36.294   \n",
       "2018-06-29 16:56:38.356  195.68.129.2 2018-06-29 16:56:35.357   \n",
       "2018-06-29 16:56:36.370  79.111.12.34 2018-06-29 16:56:33.084   \n",
       "\n",
       "                                worker_last_run                      message  \\\n",
       "date                                                                           \n",
       "2018-06-29 16:56:52.885 2018-06-29 16:56:49.793      worker=GORO, delay=3000   \n",
       "2018-06-29 16:56:49.546 2018-06-29 16:56:46.216      worker=GORO, delay=3000   \n",
       "2018-06-29 16:56:47.585 2018-06-29 16:56:44.719  worker=Ganymede, delay=3000   \n",
       "2018-06-29 16:56:46.322 2018-06-29 16:56:43.031      worker=GORO, delay=3000   \n",
       "2018-06-29 16:56:44.597 2018-06-29 16:56:41.655  worker=Ganymede, delay=3000   \n",
       "2018-06-29 16:56:42.955 2018-06-29 16:56:39.633      worker=GORO, delay=3000   \n",
       "2018-06-29 16:56:41.387 2018-06-29 16:56:38.523  worker=Ganymede, delay=3000   \n",
       "2018-06-29 16:56:39.660 2018-06-29 16:56:36.294      worker=GORO, delay=3000   \n",
       "2018-06-29 16:56:38.356 2018-06-29 16:56:35.357  worker=Ganymede, delay=3000   \n",
       "2018-06-29 16:56:36.370 2018-06-29 16:56:33.084      worker=GORO, delay=3000   \n",
       "\n",
       "                         workers_count      timestamp  \n",
       "date                                                   \n",
       "2018-06-29 16:56:52.885              2  1530291412885  \n",
       "2018-06-29 16:56:49.546              2  1530291409545  \n",
       "2018-06-29 16:56:47.585              2  1530291407585  \n",
       "2018-06-29 16:56:46.322              2  1530291406321  \n",
       "2018-06-29 16:56:44.597              2  1530291404597  \n",
       "2018-06-29 16:56:42.955              2  1530291402955  \n",
       "2018-06-29 16:56:41.387              2  1530291401387  \n",
       "2018-06-29 16:56:39.660              2  1530291399660  \n",
       "2018-06-29 16:56:38.356              2  1530291398356  \n",
       "2018-06-29 16:56:36.370              2  1530291396369  "
      ]
     },
     "execution_count": 340,
     "metadata": {},
     "output_type": "execute_result"
    }
   ],
   "source": [
    "# fetch data from cassandra db\n",
    "cql = \"select toTimeStamp(id) as date, ip, last_run, worker_last_run, message, workers_count from temp.log limit 50;\"\n",
    "res = session.execute(cql, timeout=5)\n",
    "df = res._current_rows\n",
    "df = df.set_index('date')\n",
    "df['timestamp'] = np.int64(df.index.to_series().apply(pd.Timestamp).astype(int).values / 1e6)\n",
    "\n",
    "df1 = df[df.ip=='79.111.12.34']\n",
    "df2 = df[df.ip=='195.68.129.2']\n",
    "\n",
    "start_ts = int(df.index.min().timestamp()*1000)\n",
    "end_ts = int(df.index.max().timestamp()*1000)\n",
    "\n",
    "df.head(10)"
   ]
  },
  {
   "cell_type": "code",
   "execution_count": 341,
   "metadata": {
    "ExecuteTime": {
     "end_time": "2018-06-29T18:58:10.152900Z",
     "start_time": "2018-06-29T18:58:10.000590Z"
    },
    "hide_input": false,
    "scrolled": true
   },
   "outputs": [
    {
     "data": {
      "image/png": "[encoded data removed]",
      "text/plain": [
       "<Figure size 1512x288 with 1 Axes>"
      ]
     },
     "metadata": {},
     "output_type": "display_data"
    }
   ],
   "source": [
    "x1 = pd.to_datetime(df1.index)\n",
    "y1 = df1.workers_count.values\n",
    "x2 = pd.to_datetime(df2.index)\n",
    "y2 = df2.workers_count.values\n",
    "\n",
    "fig, ax = plt.subplots(figsize=(21,4))\n",
    "ax.scatter(x1, [1]*len(x1), marker='o', s=200, color='green')\n",
    "ax.scatter(x2, [1.5]*len(x2), marker='o', s=200, color='darkorange')\n",
    "\n",
    "fig.autofmt_xdate()\n",
    "plt.grid(True)\n",
    "plt.ylim(0, 1.8)\n",
    "\n",
    "#ax.yaxis.set_visible(False)\n",
    "ax.spines['right'].set_visible(False)\n",
    "ax.spines['left'].set_visible(False)\n",
    "ax.spines['top'].set_visible(False)\n",
    "ax.xaxis.set_ticks_position('bottom')\n",
    "\n",
    "ax.get_yaxis().set_ticklabels([])\n",
    "space = pd.to_timedelta(2, unit='s') # 1 second interval to prepend\n",
    "plt.xlim(x1[0] - space, x2[-1] + space)\n",
    "ax.set_xticks(x1.append(x2), minor=False)\n",
    "ax.set_yticks([0.5,1,1.5], minor=False)\n",
    "\n",
    "plt.show()"
   ]
  },
  {
   "cell_type": "code",
   "execution_count": null,
   "metadata": {},
   "outputs": [],
   "source": []
  }
 ],
 "metadata": {
  "hide_input": true,
  "kernelspec": {
   "display_name": "Python 3",
   "language": "python",
   "name": "python3"
  },
  "language_info": {
   "codemirror_mode": {
    "name": "ipython",
    "version": 3
   },
   "file_extension": ".py",
   "mimetype": "text/x-python",
   "name": "python",
   "nbconvert_exporter": "python",
   "pygments_lexer": "ipython3",
   "version": "3.6.5"
  }
 },
 "nbformat": 4,
 "nbformat_minor": 2
}
