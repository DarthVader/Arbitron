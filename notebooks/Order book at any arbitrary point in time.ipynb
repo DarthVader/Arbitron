{
 "cells": [
  {
   "cell_type": "markdown",
   "metadata": {},
   "source": [
    "# Database connection"
   ]
  },
  {
   "cell_type": "code",
   "execution_count": 1,
   "metadata": {},
   "outputs": [],
   "source": [
    "import pandas as pd\n",
    "from decimal import *\n",
    "from alex.database import Database # вспомогательный класс для подключения к базе и работе с sql\n",
    "%matplotlib inline"
   ]
  },
  {
   "cell_type": "code",
   "execution_count": 2,
   "metadata": {},
   "outputs": [],
   "source": [
    "# чтобы посмотреть содержимое файла database.py, из которого импортируется Database, раскомментируй следующую строку:\n",
    "#%load alex/database/database.py"
   ]
  },
  {
   "cell_type": "code",
   "execution_count": 3,
   "metadata": {},
   "outputs": [
    {
     "name": "stdout",
     "output_type": "stream",
     "text": [
      "Help on function query in module alex.database.database:\n",
      "\n",
      "query(self, sql)\n",
      "    executes query against MSSQL, returns Pandas Dataframe\n",
      "\n"
     ]
    }
   ],
   "source": [
    "help(Database.query)"
   ]
  },
  {
   "cell_type": "code",
   "execution_count": 4,
   "metadata": {},
   "outputs": [],
   "source": [
    "db = Database() # подключение к базе данных с учётными данными для Alex"
   ]
  },
  {
   "cell_type": "code",
   "execution_count": 5,
   "metadata": {},
   "outputs": [],
   "source": [
    "def optimize_df(df):\n",
    "    # оптимизация размера датафрейма - преобразование в категории того, чего надо \n",
    "    # и присвоение типа Decimal фин.показателям\n",
    "    for col in df.columns:\n",
    "        if col in ('exchange', 'pair', 'bid_ask'):\n",
    "            df[col] = df[col].astype('category')\n",
    "        if col in ('price', 'amount', 'volume'):\n",
    "            df[col] = df[col].astype(Decimal)\n",
    "    return df"
   ]
  },
  {
   "cell_type": "markdown",
   "metadata": {},
   "source": [
    "## Most recent Order book"
   ]
  },
  {
   "cell_type": "code",
   "execution_count": 6,
   "metadata": {},
   "outputs": [],
   "source": [
    "exchange = \"binance\"\n",
    "pair = \"ETH/USDT\""
   ]
  },
  {
   "cell_type": "code",
   "execution_count": 7,
   "metadata": {},
   "outputs": [],
   "source": [
    "sql_orderbook = f\"select * from v_order_book with (snapshot) where exchange='{exchange}' and pair='{pair}'\"\n",
    "df_orderbook = optimize_df(db.query(sql_orderbook))"
   ]
  },
  {
   "cell_type": "code",
   "execution_count": 8,
   "metadata": {},
   "outputs": [
    {
     "name": "stdout",
     "output_type": "stream",
     "text": [
      "<class 'pandas.core.frame.DataFrame'>\n",
      "RangeIndex: 200 entries, 0 to 199\n",
      "Data columns (total 8 columns):\n",
      "id_ex_pair    200 non-null int64\n",
      "exchange      200 non-null category\n",
      "pair          200 non-null category\n",
      "dt            200 non-null datetime64[ns]\n",
      "bid_ask       200 non-null category\n",
      "price         200 non-null object\n",
      "amount        200 non-null object\n",
      "volume        200 non-null object\n",
      "dtypes: category(3), datetime64[ns](1), int64(1), object(3)\n",
      "memory usage: 8.7+ KB\n"
     ]
    }
   ],
   "source": [
    "df_orderbook.info()"
   ]
  },
  {
   "cell_type": "code",
   "execution_count": 9,
   "metadata": {},
   "outputs": [],
   "source": [
    "bids = sorted(df_orderbook[df_orderbook.bid_ask=='bid'].sort_values('price')['price'].values)\n",
    "asks = sorted(df_orderbook[df_orderbook.bid_ask=='ask'].sort_values('price')['price'].values)\n",
    "# rounding\n",
    "bids = [round(x, 2) for x in bids]\n",
    "asks = [round(x, 2) for x in asks]"
   ]
  },
  {
   "cell_type": "code",
   "execution_count": 10,
   "metadata": {
    "scrolled": true
   },
   "outputs": [
    {
     "data": {
      "text/plain": [
       "100"
      ]
     },
     "execution_count": 10,
     "metadata": {},
     "output_type": "execute_result"
    }
   ],
   "source": [
    "size = min(len(bids), len(asks))\n",
    "size"
   ]
  },
  {
   "cell_type": "markdown",
   "metadata": {},
   "source": [
    "## Order book at particular date"
   ]
  },
  {
   "cell_type": "code",
   "execution_count": 11,
   "metadata": {},
   "outputs": [],
   "source": [
    "date = '2018-09-20 0:00:00'\n",
    "exchange = \"binance\"\n",
    "pair = \"ETH/USDT\"\n",
    "sql = f\"select * from dbo.tvf_get_order_book_at_date('{date}') where exchange='{exchange}' and pair='{pair}'\"\n",
    "df_at_date = optimize_df(db.query(sql))"
   ]
  },
  {
   "cell_type": "code",
   "execution_count": 12,
   "metadata": {},
   "outputs": [
    {
     "data": {
      "text/html": [
       "<div>\n",
       "<style scoped>\n",
       "    .dataframe tbody tr th:only-of-type {\n",
       "        vertical-align: middle;\n",
       "    }\n",
       "\n",
       "    .dataframe tbody tr th {\n",
       "        vertical-align: top;\n",
       "    }\n",
       "\n",
       "    .dataframe thead th {\n",
       "        text-align: right;\n",
       "    }\n",
       "</style>\n",
       "<table border=\"1\" class=\"dataframe\">\n",
       "  <thead>\n",
       "    <tr style=\"text-align: right;\">\n",
       "      <th></th>\n",
       "      <th>id_ex_pair</th>\n",
       "      <th>exchange</th>\n",
       "      <th>pair</th>\n",
       "      <th>dt</th>\n",
       "      <th>bid_ask</th>\n",
       "      <th>price</th>\n",
       "      <th>amount</th>\n",
       "      <th>volume</th>\n",
       "    </tr>\n",
       "  </thead>\n",
       "  <tbody>\n",
       "    <tr>\n",
       "      <th>15</th>\n",
       "      <td>19</td>\n",
       "      <td>binance</td>\n",
       "      <td>ETH/USDT</td>\n",
       "      <td>2018-09-19 23:59:58</td>\n",
       "      <td>bid</td>\n",
       "      <td>211.08</td>\n",
       "      <td>5.54241</td>\n",
       "      <td>1169.89</td>\n",
       "    </tr>\n",
       "    <tr>\n",
       "      <th>150</th>\n",
       "      <td>19</td>\n",
       "      <td>binance</td>\n",
       "      <td>ETH/USDT</td>\n",
       "      <td>2018-09-19 23:59:58</td>\n",
       "      <td>ask</td>\n",
       "      <td>214.47</td>\n",
       "      <td>0.8</td>\n",
       "      <td>171.576</td>\n",
       "    </tr>\n",
       "    <tr>\n",
       "      <th>124</th>\n",
       "      <td>19</td>\n",
       "      <td>binance</td>\n",
       "      <td>ETH/USDT</td>\n",
       "      <td>2018-09-19 23:59:58</td>\n",
       "      <td>bid</td>\n",
       "      <td>208.11</td>\n",
       "      <td>1.501</td>\n",
       "      <td>312.373</td>\n",
       "    </tr>\n",
       "    <tr>\n",
       "      <th>55</th>\n",
       "      <td>19</td>\n",
       "      <td>binance</td>\n",
       "      <td>ETH/USDT</td>\n",
       "      <td>2018-09-19 23:59:58</td>\n",
       "      <td>ask</td>\n",
       "      <td>211.23</td>\n",
       "      <td>13.3108</td>\n",
       "      <td>2811.63</td>\n",
       "    </tr>\n",
       "    <tr>\n",
       "      <th>17</th>\n",
       "      <td>19</td>\n",
       "      <td>binance</td>\n",
       "      <td>ETH/USDT</td>\n",
       "      <td>2018-09-19 23:59:58</td>\n",
       "      <td>bid</td>\n",
       "      <td>211.1</td>\n",
       "      <td>42.713</td>\n",
       "      <td>9016.72</td>\n",
       "    </tr>\n",
       "  </tbody>\n",
       "</table>\n",
       "</div>"
      ],
      "text/plain": [
       "     id_ex_pair exchange      pair                  dt bid_ask   price  \\\n",
       "15           19  binance  ETH/USDT 2018-09-19 23:59:58     bid  211.08   \n",
       "150          19  binance  ETH/USDT 2018-09-19 23:59:58     ask  214.47   \n",
       "124          19  binance  ETH/USDT 2018-09-19 23:59:58     bid  208.11   \n",
       "55           19  binance  ETH/USDT 2018-09-19 23:59:58     ask  211.23   \n",
       "17           19  binance  ETH/USDT 2018-09-19 23:59:58     bid   211.1   \n",
       "\n",
       "      amount   volume  \n",
       "15   5.54241  1169.89  \n",
       "150      0.8  171.576  \n",
       "124    1.501  312.373  \n",
       "55   13.3108  2811.63  \n",
       "17    42.713  9016.72  "
      ]
     },
     "execution_count": 12,
     "metadata": {},
     "output_type": "execute_result"
    }
   ],
   "source": [
    "df_at_date.sort_values('dt', ascending=False).head()"
   ]
  },
  {
   "cell_type": "markdown",
   "metadata": {},
   "source": [
    "## Order book snapshots for last N minutes"
   ]
  },
  {
   "cell_type": "code",
   "execution_count": 13,
   "metadata": {},
   "outputs": [],
   "source": [
    "minutes = 120 # кол-во минут назад от текущего момента\n",
    "exchange = \"binance\"\n",
    "pair = \"ETH/USDT\"\n",
    "sql = f\"select * from tvf_get_order_book_snapshots({minutes}) where exchange='{exchange}' and pair='{pair}'\"\n",
    "df_orderbook_snapshots = optimize_df(db.query(sql))"
   ]
  },
  {
   "cell_type": "code",
   "execution_count": 14,
   "metadata": {},
   "outputs": [
    {
     "name": "stdout",
     "output_type": "stream",
     "text": [
      "<class 'pandas.core.frame.DataFrame'>\n",
      "RangeIndex: 74600 entries, 0 to 74599\n",
      "Data columns (total 7 columns):\n",
      "dt          74600 non-null datetime64[ns]\n",
      "exchange    74600 non-null category\n",
      "pair        74600 non-null category\n",
      "bid_ask     74600 non-null category\n",
      "price       74600 non-null object\n",
      "amount      74600 non-null object\n",
      "volume      74600 non-null object\n",
      "dtypes: category(3), datetime64[ns](1), object(3)\n",
      "memory usage: 2.5+ MB\n"
     ]
    }
   ],
   "source": [
    "df_orderbook_snapshots.info()"
   ]
  },
  {
   "cell_type": "markdown",
   "metadata": {},
   "source": [
    "## History"
   ]
  },
  {
   "cell_type": "code",
   "execution_count": 29,
   "metadata": {},
   "outputs": [],
   "source": [
    "date = '2018-09-20 0:00:00' # дата с которой загружать историю\n",
    "sql_history = f\"select * from v_history with (snapshot) where exchange='{exchange}' and pair='{pair}' \" \\\n",
    "              f\"and dt>='{date}'\""
   ]
  },
  {
   "cell_type": "code",
   "execution_count": 30,
   "metadata": {},
   "outputs": [],
   "source": [
    "df_history = optimize_df(db.query(sql_history))"
   ]
  },
  {
   "cell_type": "code",
   "execution_count": 31,
   "metadata": {},
   "outputs": [],
   "source": [
    "df_history.set_index('dt', inplace=True)"
   ]
  },
  {
   "cell_type": "code",
   "execution_count": 32,
   "metadata": {},
   "outputs": [
    {
     "data": {
      "text/html": [
       "<div>\n",
       "<style scoped>\n",
       "    .dataframe tbody tr th:only-of-type {\n",
       "        vertical-align: middle;\n",
       "    }\n",
       "\n",
       "    .dataframe tbody tr th {\n",
       "        vertical-align: top;\n",
       "    }\n",
       "\n",
       "    .dataframe thead th {\n",
       "        text-align: right;\n",
       "    }\n",
       "</style>\n",
       "<table border=\"1\" class=\"dataframe\">\n",
       "  <thead>\n",
       "    <tr style=\"text-align: right;\">\n",
       "      <th></th>\n",
       "      <th>id_ex_pair</th>\n",
       "      <th>exchange</th>\n",
       "      <th>pair</th>\n",
       "      <th>price</th>\n",
       "      <th>amount</th>\n",
       "      <th>type</th>\n",
       "      <th>side</th>\n",
       "      <th>id</th>\n",
       "      <th>location</th>\n",
       "      <th>insert_date</th>\n",
       "    </tr>\n",
       "    <tr>\n",
       "      <th>dt</th>\n",
       "      <th></th>\n",
       "      <th></th>\n",
       "      <th></th>\n",
       "      <th></th>\n",
       "      <th></th>\n",
       "      <th></th>\n",
       "      <th></th>\n",
       "      <th></th>\n",
       "      <th></th>\n",
       "      <th></th>\n",
       "    </tr>\n",
       "  </thead>\n",
       "  <tbody>\n",
       "    <tr>\n",
       "      <th>2018-09-20 02:35:02</th>\n",
       "      <td>19</td>\n",
       "      <td>binance</td>\n",
       "      <td>ETH/USDT</td>\n",
       "      <td>209.09</td>\n",
       "      <td>6.99656</td>\n",
       "      <td>None</td>\n",
       "      <td>buy</td>\n",
       "      <td>36389444.0</td>\n",
       "      <td>memory</td>\n",
       "      <td>2018-09-20 02:35:03.7800000</td>\n",
       "    </tr>\n",
       "    <tr>\n",
       "      <th>2018-09-20 02:35:02</th>\n",
       "      <td>19</td>\n",
       "      <td>binance</td>\n",
       "      <td>ETH/USDT</td>\n",
       "      <td>209.09</td>\n",
       "      <td>0.90281</td>\n",
       "      <td>None</td>\n",
       "      <td>sell</td>\n",
       "      <td>36389443.0</td>\n",
       "      <td>memory</td>\n",
       "      <td>2018-09-20 02:35:03.7800000</td>\n",
       "    </tr>\n",
       "    <tr>\n",
       "      <th>2018-09-20 02:35:07</th>\n",
       "      <td>19</td>\n",
       "      <td>binance</td>\n",
       "      <td>ETH/USDT</td>\n",
       "      <td>209.09</td>\n",
       "      <td>2.34124</td>\n",
       "      <td>None</td>\n",
       "      <td>sell</td>\n",
       "      <td>36389445.0</td>\n",
       "      <td>memory</td>\n",
       "      <td>2018-09-20 02:35:09.4033333</td>\n",
       "    </tr>\n",
       "    <tr>\n",
       "      <th>2018-09-20 02:35:07</th>\n",
       "      <td>19</td>\n",
       "      <td>binance</td>\n",
       "      <td>ETH/USDT</td>\n",
       "      <td>209.08</td>\n",
       "      <td>4.87118</td>\n",
       "      <td>None</td>\n",
       "      <td>sell</td>\n",
       "      <td>36389446.0</td>\n",
       "      <td>memory</td>\n",
       "      <td>2018-09-20 02:35:09.4033333</td>\n",
       "    </tr>\n",
       "    <tr>\n",
       "      <th>2018-09-20 02:35:12</th>\n",
       "      <td>19</td>\n",
       "      <td>binance</td>\n",
       "      <td>ETH/USDT</td>\n",
       "      <td>209.17</td>\n",
       "      <td>0.52498</td>\n",
       "      <td>None</td>\n",
       "      <td>buy</td>\n",
       "      <td>36389447.0</td>\n",
       "      <td>memory</td>\n",
       "      <td>2018-09-20 02:35:14.7100000</td>\n",
       "    </tr>\n",
       "  </tbody>\n",
       "</table>\n",
       "</div>"
      ],
      "text/plain": [
       "                     id_ex_pair exchange      pair   price   amount  type  \\\n",
       "dt                                                                          \n",
       "2018-09-20 02:35:02          19  binance  ETH/USDT  209.09  6.99656  None   \n",
       "2018-09-20 02:35:02          19  binance  ETH/USDT  209.09  0.90281  None   \n",
       "2018-09-20 02:35:07          19  binance  ETH/USDT  209.09  2.34124  None   \n",
       "2018-09-20 02:35:07          19  binance  ETH/USDT  209.08  4.87118  None   \n",
       "2018-09-20 02:35:12          19  binance  ETH/USDT  209.17  0.52498  None   \n",
       "\n",
       "                     side          id location                  insert_date  \n",
       "dt                                                                           \n",
       "2018-09-20 02:35:02   buy  36389444.0   memory  2018-09-20 02:35:03.7800000  \n",
       "2018-09-20 02:35:02  sell  36389443.0   memory  2018-09-20 02:35:03.7800000  \n",
       "2018-09-20 02:35:07  sell  36389445.0   memory  2018-09-20 02:35:09.4033333  \n",
       "2018-09-20 02:35:07  sell  36389446.0   memory  2018-09-20 02:35:09.4033333  \n",
       "2018-09-20 02:35:12   buy  36389447.0   memory  2018-09-20 02:35:14.7100000  "
      ]
     },
     "execution_count": 32,
     "metadata": {},
     "output_type": "execute_result"
    }
   ],
   "source": [
    "df_history.head()"
   ]
  },
  {
   "cell_type": "code",
   "execution_count": null,
   "metadata": {},
   "outputs": [],
   "source": []
  }
 ],
 "metadata": {
  "hide_input": false,
  "kernelspec": {
   "display_name": "Python 3",
   "language": "python",
   "name": "python3"
  },
  "language_info": {
   "codemirror_mode": {
    "name": "ipython",
    "version": 3
   },
   "file_extension": ".py",
   "mimetype": "text/x-python",
   "name": "python",
   "nbconvert_exporter": "python",
   "pygments_lexer": "ipython3",
   "version": "3.6.5"
  }
 },
 "nbformat": 4,
 "nbformat_minor": 2
}
