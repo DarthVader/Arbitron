{
 "cells": [
  {
   "cell_type": "markdown",
   "metadata": {},
   "source": [
    "# Загрузка Order book из CSV"
   ]
  },
  {
   "cell_type": "code",
   "execution_count": 12,
   "metadata": {},
   "outputs": [],
   "source": [
    "import pandas as pd\n",
    "from sqlalchemy import create_engine\n",
    "import numpy as np\n",
    "from sklearn import linear_model\n",
    "from sklearn.linear_model import LogisticRegression\n",
    "from sklearn.linear_model import LinearRegression\n",
    "from sklearn import metrics\n",
    "from sklearn.cross_validation import cross_val_score\n",
    "from sklearn.cross_validation import cross_val_predict\n",
    "import datetime as dt\n",
    "import matplotlib.pyplot as plt\n",
    "%matplotlib inline\n",
    "from alex.database import Database\n",
    "from pprint import pprint"
   ]
  },
  {
   "cell_type": "markdown",
   "metadata": {},
   "source": [
    "### Скоростная загрузка с диска, из заархивированного CSV-файла"
   ]
  },
  {
   "cell_type": "code",
   "execution_count": 2,
   "metadata": {},
   "outputs": [],
   "source": [
    "# результат выполнения запроса:\n",
    "# select * from tvf_get_order_book_snapshots(2880) where exchange='binance' and pair='ETH/USDT' # запрос на 20 минут\n",
    "order = pd.read_csv('tvf_get_order_book_snapshots 15.09.2018-01.10.2018.zip', index_col='dt')"
   ]
  },
  {
   "cell_type": "code",
   "execution_count": 36,
   "metadata": {},
   "outputs": [],
   "source": [
    "# загрузка истории\n",
    "# 15 секунд\n",
    "db = Database()\n",
    "sql_history = f\"select * from v_history with (snapshot) where exchange='binance' and pair='ETH/USDT' and dt>'2018-09-23'\"\n",
    "df_history = db.query(sql_history)\n",
    "df_history.set_index('dt', inplace=True)"
   ]
  },
  {
   "cell_type": "markdown",
   "metadata": {},
   "source": [
    "### Немного статистики по загруженным датасетам"
   ]
  },
  {
   "cell_type": "code",
   "execution_count": 6,
   "metadata": {},
   "outputs": [
    {
     "data": {
      "text/html": [
       "<div>\n",
       "<style scoped>\n",
       "    .dataframe tbody tr th:only-of-type {\n",
       "        vertical-align: middle;\n",
       "    }\n",
       "\n",
       "    .dataframe tbody tr th {\n",
       "        vertical-align: top;\n",
       "    }\n",
       "\n",
       "    .dataframe thead th {\n",
       "        text-align: right;\n",
       "    }\n",
       "</style>\n",
       "<table border=\"1\" class=\"dataframe\">\n",
       "  <thead>\n",
       "    <tr style=\"text-align: right;\">\n",
       "      <th></th>\n",
       "      <th>exchange</th>\n",
       "      <th>pair</th>\n",
       "      <th>bid_ask</th>\n",
       "      <th>price</th>\n",
       "      <th>amount</th>\n",
       "      <th>volume</th>\n",
       "    </tr>\n",
       "  </thead>\n",
       "  <tbody>\n",
       "    <tr>\n",
       "      <th>count</th>\n",
       "      <td>153400</td>\n",
       "      <td>153400</td>\n",
       "      <td>153400</td>\n",
       "      <td>153400</td>\n",
       "      <td>153400</td>\n",
       "      <td>153400</td>\n",
       "    </tr>\n",
       "    <tr>\n",
       "      <th>unique</th>\n",
       "      <td>1</td>\n",
       "      <td>1</td>\n",
       "      <td>2</td>\n",
       "      <td>1509</td>\n",
       "      <td>22817</td>\n",
       "      <td>29503</td>\n",
       "    </tr>\n",
       "    <tr>\n",
       "      <th>top</th>\n",
       "      <td>binance</td>\n",
       "      <td>ETH/USDT</td>\n",
       "      <td>ask</td>\n",
       "      <td>232</td>\n",
       "      <td>1</td>\n",
       "      <td>10,06027</td>\n",
       "    </tr>\n",
       "    <tr>\n",
       "      <th>freq</th>\n",
       "      <td>153400</td>\n",
       "      <td>153400</td>\n",
       "      <td>76700</td>\n",
       "      <td>682</td>\n",
       "      <td>3122</td>\n",
       "      <td>500</td>\n",
       "    </tr>\n",
       "  </tbody>\n",
       "</table>\n",
       "</div>"
      ],
      "text/plain": [
       "       exchange      pair bid_ask   price  amount    volume\n",
       "count    153400    153400  153400  153400  153400    153400\n",
       "unique        1         1       2    1509   22817     29503\n",
       "top     binance  ETH/USDT     ask     232       1  10,06027\n",
       "freq     153400    153400   76700     682    3122       500"
      ]
     },
     "execution_count": 6,
     "metadata": {},
     "output_type": "execute_result"
    }
   ],
   "source": [
    "order.describe()"
   ]
  },
  {
   "cell_type": "code",
   "execution_count": 18,
   "metadata": {},
   "outputs": [
    {
     "data": {
      "text/plain": [
       "767"
      ]
     },
     "execution_count": 18,
     "metadata": {},
     "output_type": "execute_result"
    }
   ],
   "source": [
    "len(order.index.sort_values().unique())"
   ]
  },
  {
   "cell_type": "code",
   "execution_count": 37,
   "metadata": {},
   "outputs": [
    {
     "data": {
      "text/plain": [
       "1221495"
      ]
     },
     "execution_count": 37,
     "metadata": {},
     "output_type": "execute_result"
    }
   ],
   "source": [
    "len(df_history)"
   ]
  },
  {
   "cell_type": "markdown",
   "metadata": {},
   "source": [
    "### Получение Order Book в другом виде, напрямую из исторической таблицы dbo.order_book"
   ]
  },
  {
   "cell_type": "markdown",
   "metadata": {},
   "source": [
    "Это не снимки, а только новые записи, добавляемые в order book в момент отрабатывания воркера. Поля ValidFrom и ValidTill показывают время жизни каждого ордера"
   ]
  },
  {
   "cell_type": "code",
   "execution_count": 59,
   "metadata": {},
   "outputs": [],
   "source": [
    "# должно быть около 30 секунд\n",
    "sql_orderbook = \"SELECT *, ValidFrom, ValidTill FROM mem.order_book for system_time from '2018-09-23' to '2018-10-01' where id_ex_pair=19\"\n",
    "# id_ex_pair=19 - это Binance + ETH/USDT\n",
    "df_orderbook = db.query(sql_orderbook)"
   ]
  },
  {
   "cell_type": "code",
   "execution_count": 64,
   "metadata": {},
   "outputs": [],
   "source": [
    "df_orderbook['dt'] = pd.to_datetime(df_orderbook.dt)\n",
    "df_orderbook['id'] = df_orderbook['id'].astype(int)\n",
    "df_orderbook['ValidFrom'] = pd.to_datetime(df_orderbook.ValidFrom)\n",
    "df_orderbook['ValidTill'] = pd.to_datetime(df_orderbook.ValidTill)\n",
    "del df_orderbook['id_ex_pair']"
   ]
  },
  {
   "cell_type": "code",
   "execution_count": 66,
   "metadata": {},
   "outputs": [
    {
     "name": "stdout",
     "output_type": "stream",
     "text": [
      "<class 'pandas.core.frame.DataFrame'>\n",
      "RangeIndex: 2317073 entries, 0 to 2317072\n",
      "Data columns (total 8 columns):\n",
      "id            int32\n",
      "id_ex_pair    int64\n",
      "dt            datetime64[ns]\n",
      "is_bid        bool\n",
      "price         float64\n",
      "amount        float64\n",
      "ValidFrom     datetime64[ns]\n",
      "ValidTill     datetime64[ns]\n",
      "dtypes: bool(1), datetime64[ns](3), float64(2), int32(1), int64(1)\n",
      "memory usage: 117.1 MB\n"
     ]
    }
   ],
   "source": [
    "df_orderbook.info()"
   ]
  },
  {
   "cell_type": "code",
   "execution_count": 67,
   "metadata": {},
   "outputs": [],
   "source": [
    "# dt - время загрузки, id - порядковый номер записи, обычный инкремент identity(1,1)\n",
    "df_orderbook.sort_values(['dt','id'], inplace=True)\n",
    "df_orderbook.set_index(['dt','id'], inplace=True)"
   ]
  },
  {
   "cell_type": "markdown",
   "metadata": {},
   "source": [
    "##### Скрипт загружает Order Book 1 раз в 3 секунды. Интервалы более 3 секунд между соседними записями могут означать, что Order Book не менялся, либо по каким-то причинам увеличилось время срабатывания скрипта"
   ]
  },
  {
   "cell_type": "code",
   "execution_count": 68,
   "metadata": {},
   "outputs": [
    {
     "data": {
      "text/html": [
       "<div>\n",
       "<style scoped>\n",
       "    .dataframe tbody tr th:only-of-type {\n",
       "        vertical-align: middle;\n",
       "    }\n",
       "\n",
       "    .dataframe tbody tr th {\n",
       "        vertical-align: top;\n",
       "    }\n",
       "\n",
       "    .dataframe thead th {\n",
       "        text-align: right;\n",
       "    }\n",
       "</style>\n",
       "<table border=\"1\" class=\"dataframe\">\n",
       "  <thead>\n",
       "    <tr style=\"text-align: right;\">\n",
       "      <th></th>\n",
       "      <th></th>\n",
       "      <th>id_ex_pair</th>\n",
       "      <th>is_bid</th>\n",
       "      <th>price</th>\n",
       "      <th>amount</th>\n",
       "      <th>ValidFrom</th>\n",
       "      <th>ValidTill</th>\n",
       "    </tr>\n",
       "    <tr>\n",
       "      <th>dt</th>\n",
       "      <th>id</th>\n",
       "      <th></th>\n",
       "      <th></th>\n",
       "      <th></th>\n",
       "      <th></th>\n",
       "      <th></th>\n",
       "      <th></th>\n",
       "    </tr>\n",
       "  </thead>\n",
       "  <tbody>\n",
       "    <tr>\n",
       "      <th rowspan=\"5\" valign=\"top\">2018-09-30 23:59:55</th>\n",
       "      <th>35197647</th>\n",
       "      <td>19</td>\n",
       "      <td>True</td>\n",
       "      <td>232.90</td>\n",
       "      <td>0.22000</td>\n",
       "      <td>2018-09-30 23:59:56</td>\n",
       "      <td>2018-10-01 00:00:05</td>\n",
       "    </tr>\n",
       "    <tr>\n",
       "      <th>35197648</th>\n",
       "      <td>19</td>\n",
       "      <td>False</td>\n",
       "      <td>233.61</td>\n",
       "      <td>0.04306</td>\n",
       "      <td>2018-09-30 23:59:56</td>\n",
       "      <td>2018-10-01 00:01:34</td>\n",
       "    </tr>\n",
       "    <tr>\n",
       "      <th>35197649</th>\n",
       "      <td>19</td>\n",
       "      <td>True</td>\n",
       "      <td>230.50</td>\n",
       "      <td>4.07605</td>\n",
       "      <td>2018-09-30 23:59:56</td>\n",
       "      <td>2018-10-01 00:00:18</td>\n",
       "    </tr>\n",
       "    <tr>\n",
       "      <th>35197650</th>\n",
       "      <td>19</td>\n",
       "      <td>False</td>\n",
       "      <td>233.51</td>\n",
       "      <td>3.77501</td>\n",
       "      <td>2018-09-30 23:59:56</td>\n",
       "      <td>2018-10-01 00:00:12</td>\n",
       "    </tr>\n",
       "    <tr>\n",
       "      <th>35197651</th>\n",
       "      <td>19</td>\n",
       "      <td>False</td>\n",
       "      <td>233.25</td>\n",
       "      <td>41.12412</td>\n",
       "      <td>2018-09-30 23:59:56</td>\n",
       "      <td>2018-10-01 00:00:24</td>\n",
       "    </tr>\n",
       "    <tr>\n",
       "      <th rowspan=\"5\" valign=\"top\">2018-09-30 23:59:58</th>\n",
       "      <th>35197780</th>\n",
       "      <td>19</td>\n",
       "      <td>True</td>\n",
       "      <td>230.96</td>\n",
       "      <td>0.51331</td>\n",
       "      <td>2018-09-30 23:59:59</td>\n",
       "      <td>2018-10-01 00:00:21</td>\n",
       "    </tr>\n",
       "    <tr>\n",
       "      <th>35197781</th>\n",
       "      <td>19</td>\n",
       "      <td>True</td>\n",
       "      <td>231.60</td>\n",
       "      <td>0.81217</td>\n",
       "      <td>2018-09-30 23:59:59</td>\n",
       "      <td>2018-10-01 00:00:59</td>\n",
       "    </tr>\n",
       "    <tr>\n",
       "      <th>35197782</th>\n",
       "      <td>19</td>\n",
       "      <td>True</td>\n",
       "      <td>232.91</td>\n",
       "      <td>0.17800</td>\n",
       "      <td>2018-09-30 23:59:59</td>\n",
       "      <td>2018-10-01 00:00:05</td>\n",
       "    </tr>\n",
       "    <tr>\n",
       "      <th>35197783</th>\n",
       "      <td>19</td>\n",
       "      <td>True</td>\n",
       "      <td>232.89</td>\n",
       "      <td>21.34600</td>\n",
       "      <td>2018-09-30 23:59:59</td>\n",
       "      <td>2018-10-01 00:00:02</td>\n",
       "    </tr>\n",
       "    <tr>\n",
       "      <th>35197784</th>\n",
       "      <td>19</td>\n",
       "      <td>False</td>\n",
       "      <td>236.15</td>\n",
       "      <td>0.38710</td>\n",
       "      <td>2018-09-30 23:59:59</td>\n",
       "      <td>2018-10-01 00:00:02</td>\n",
       "    </tr>\n",
       "  </tbody>\n",
       "</table>\n",
       "</div>"
      ],
      "text/plain": [
       "                              id_ex_pair  is_bid   price    amount  \\\n",
       "dt                  id                                               \n",
       "2018-09-30 23:59:55 35197647          19    True  232.90   0.22000   \n",
       "                    35197648          19   False  233.61   0.04306   \n",
       "                    35197649          19    True  230.50   4.07605   \n",
       "                    35197650          19   False  233.51   3.77501   \n",
       "                    35197651          19   False  233.25  41.12412   \n",
       "2018-09-30 23:59:58 35197780          19    True  230.96   0.51331   \n",
       "                    35197781          19    True  231.60   0.81217   \n",
       "                    35197782          19    True  232.91   0.17800   \n",
       "                    35197783          19    True  232.89  21.34600   \n",
       "                    35197784          19   False  236.15   0.38710   \n",
       "\n",
       "                                       ValidFrom           ValidTill  \n",
       "dt                  id                                                \n",
       "2018-09-30 23:59:55 35197647 2018-09-30 23:59:56 2018-10-01 00:00:05  \n",
       "                    35197648 2018-09-30 23:59:56 2018-10-01 00:01:34  \n",
       "                    35197649 2018-09-30 23:59:56 2018-10-01 00:00:18  \n",
       "                    35197650 2018-09-30 23:59:56 2018-10-01 00:00:12  \n",
       "                    35197651 2018-09-30 23:59:56 2018-10-01 00:00:24  \n",
       "2018-09-30 23:59:58 35197780 2018-09-30 23:59:59 2018-10-01 00:00:21  \n",
       "                    35197781 2018-09-30 23:59:59 2018-10-01 00:00:59  \n",
       "                    35197782 2018-09-30 23:59:59 2018-10-01 00:00:05  \n",
       "                    35197783 2018-09-30 23:59:59 2018-10-01 00:00:02  \n",
       "                    35197784 2018-09-30 23:59:59 2018-10-01 00:00:02  "
      ]
     },
     "execution_count": 68,
     "metadata": {},
     "output_type": "execute_result"
    }
   ],
   "source": [
    "df_orderbook.tail(10)"
   ]
  },
  {
   "cell_type": "code",
   "execution_count": 69,
   "metadata": {},
   "outputs": [
    {
     "data": {
      "text/html": [
       "<div>\n",
       "<style scoped>\n",
       "    .dataframe tbody tr th:only-of-type {\n",
       "        vertical-align: middle;\n",
       "    }\n",
       "\n",
       "    .dataframe tbody tr th {\n",
       "        vertical-align: top;\n",
       "    }\n",
       "\n",
       "    .dataframe thead th {\n",
       "        text-align: right;\n",
       "    }\n",
       "</style>\n",
       "<table border=\"1\" class=\"dataframe\">\n",
       "  <thead>\n",
       "    <tr style=\"text-align: right;\">\n",
       "      <th></th>\n",
       "      <th>id_ex_pair</th>\n",
       "      <th>price</th>\n",
       "      <th>amount</th>\n",
       "    </tr>\n",
       "  </thead>\n",
       "  <tbody>\n",
       "    <tr>\n",
       "      <th>count</th>\n",
       "      <td>2317073.0</td>\n",
       "      <td>2.317073e+06</td>\n",
       "      <td>2.317073e+06</td>\n",
       "    </tr>\n",
       "    <tr>\n",
       "      <th>mean</th>\n",
       "      <td>19.0</td>\n",
       "      <td>2.254567e+02</td>\n",
       "      <td>2.116770e+01</td>\n",
       "    </tr>\n",
       "    <tr>\n",
       "      <th>std</th>\n",
       "      <td>0.0</td>\n",
       "      <td>1.035779e+01</td>\n",
       "      <td>8.315237e+01</td>\n",
       "    </tr>\n",
       "    <tr>\n",
       "      <th>min</th>\n",
       "      <td>19.0</td>\n",
       "      <td>2.016800e+02</td>\n",
       "      <td>1.000000e-05</td>\n",
       "    </tr>\n",
       "    <tr>\n",
       "      <th>25%</th>\n",
       "      <td>19.0</td>\n",
       "      <td>2.165800e+02</td>\n",
       "      <td>9.630000e-01</td>\n",
       "    </tr>\n",
       "    <tr>\n",
       "      <th>50%</th>\n",
       "      <td>19.0</td>\n",
       "      <td>2.259200e+02</td>\n",
       "      <td>4.000000e+00</td>\n",
       "    </tr>\n",
       "    <tr>\n",
       "      <th>75%</th>\n",
       "      <td>19.0</td>\n",
       "      <td>2.330500e+02</td>\n",
       "      <td>1.704812e+01</td>\n",
       "    </tr>\n",
       "    <tr>\n",
       "      <th>max</th>\n",
       "      <td>19.0</td>\n",
       "      <td>2.523100e+02</td>\n",
       "      <td>4.091701e+03</td>\n",
       "    </tr>\n",
       "  </tbody>\n",
       "</table>\n",
       "</div>"
      ],
      "text/plain": [
       "       id_ex_pair         price        amount\n",
       "count   2317073.0  2.317073e+06  2.317073e+06\n",
       "mean         19.0  2.254567e+02  2.116770e+01\n",
       "std           0.0  1.035779e+01  8.315237e+01\n",
       "min          19.0  2.016800e+02  1.000000e-05\n",
       "25%          19.0  2.165800e+02  9.630000e-01\n",
       "50%          19.0  2.259200e+02  4.000000e+00\n",
       "75%          19.0  2.330500e+02  1.704812e+01\n",
       "max          19.0  2.523100e+02  4.091701e+03"
      ]
     },
     "execution_count": 69,
     "metadata": {},
     "output_type": "execute_result"
    }
   ],
   "source": [
    "df_orderbook.describe()"
   ]
  },
  {
   "cell_type": "code",
   "execution_count": 70,
   "metadata": {},
   "outputs": [
    {
     "data": {
      "text/plain": [
       "2317073"
      ]
     },
     "execution_count": 70,
     "metadata": {},
     "output_type": "execute_result"
    }
   ],
   "source": [
    "# кол-во записей в Order Book\n",
    "len(df_orderbook)"
   ]
  },
  {
   "cell_type": "code",
   "execution_count": 76,
   "metadata": {},
   "outputs": [
    {
     "data": {
      "text/plain": [
       "225776"
      ]
     },
     "execution_count": 76,
     "metadata": {},
     "output_type": "execute_result"
    }
   ],
   "source": [
    "# количество уникальных дат - дат загрузок Order Book\n",
    "len(df_orderbook.index.unique(0))"
   ]
  },
  {
   "cell_type": "code",
   "execution_count": null,
   "metadata": {},
   "outputs": [],
   "source": []
  }
 ],
 "metadata": {
  "hide_input": false,
  "kernelspec": {
   "display_name": "Python 3",
   "language": "python",
   "name": "python3"
  },
  "language_info": {
   "codemirror_mode": {
    "name": "ipython",
    "version": 3
   },
   "file_extension": ".py",
   "mimetype": "text/x-python",
   "name": "python",
   "nbconvert_exporter": "python",
   "pygments_lexer": "ipython3",
   "version": "3.6.5"
  }
 },
 "nbformat": 4,
 "nbformat_minor": 2
}
