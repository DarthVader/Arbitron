{
 "cells": [
  {
   "cell_type": "markdown",
   "metadata": {},
   "source": [
    "# Order book visualization"
   ]
  },
  {
   "cell_type": "code",
   "execution_count": 1,
   "metadata": {},
   "outputs": [],
   "source": [
    "import matplotlib.pyplot as plt\n",
    "plt.rcParams['figure.figsize'] = [10, 8]\n",
    "import numpy as np\n",
    "import pandas as pd\n",
    "from decimal import Decimal\n",
    "from alex.database import Database # вспомогательный класс для подключения к базе и работе с sql\n",
    "%matplotlib inline"
   ]
  },
  {
   "cell_type": "code",
   "execution_count": 2,
   "metadata": {},
   "outputs": [],
   "source": [
    "# чтобы посмотреть содержимое файла database.py, из которого импортируется Database, раскомментируй следующую строку:\n",
    "#%load alex/database/database.py"
   ]
  },
  {
   "cell_type": "code",
   "execution_count": 3,
   "metadata": {},
   "outputs": [],
   "source": [
    "db = Database() # подключение к базе данных с учётными данными для Alex"
   ]
  },
  {
   "cell_type": "code",
   "execution_count": 4,
   "metadata": {},
   "outputs": [],
   "source": [
    "def optimize_df(df):\n",
    "    # оптимизация размера датафрейма - преобразование в категории того, чего надо \n",
    "    # и присвоение типа Decimal фин.показателям\n",
    "    for col in df.columns:\n",
    "        if col in ('exchange', 'pair', 'bid_ask'):\n",
    "            df[col] = df[col].astype('category')\n",
    "        if col in ('price', 'amount', 'volume'):\n",
    "            df[col] = df[col].astype(Decimal)\n",
    "    return df"
   ]
  },
  {
   "cell_type": "markdown",
   "metadata": {},
   "source": [
    "## Most recent Order book"
   ]
  },
  {
   "cell_type": "code",
   "execution_count": 5,
   "metadata": {},
   "outputs": [],
   "source": [
    "exchange = \"binance\"\n",
    "pair = \"ETH/USDT\""
   ]
  },
  {
   "cell_type": "code",
   "execution_count": 6,
   "metadata": {},
   "outputs": [],
   "source": [
    "sql_orderbook = f\"select * from v_order_book with (snapshot) where exchange='{exchange}' and pair='{pair}'\"\n",
    "df_orderbook = optimize_df(db.query(sql_orderbook))"
   ]
  },
  {
   "cell_type": "code",
   "execution_count": 7,
   "metadata": {},
   "outputs": [
    {
     "name": "stdout",
     "output_type": "stream",
     "text": [
      "<class 'pandas.core.frame.DataFrame'>\n",
      "RangeIndex: 200 entries, 0 to 199\n",
      "Data columns (total 8 columns):\n",
      "id_ex_pair    200 non-null int64\n",
      "exchange      200 non-null category\n",
      "pair          200 non-null category\n",
      "dt            200 non-null datetime64[ns]\n",
      "bid_ask       200 non-null category\n",
      "price         200 non-null object\n",
      "amount        200 non-null object\n",
      "volume        200 non-null object\n",
      "dtypes: category(3), datetime64[ns](1), int64(1), object(3)\n",
      "memory usage: 8.7+ KB\n"
     ]
    }
   ],
   "source": [
    "df_orderbook.info()"
   ]
  },
  {
   "cell_type": "code",
   "execution_count": 8,
   "metadata": {},
   "outputs": [],
   "source": [
    "bids = df_orderbook.loc[df_orderbook.bid_ask=='bid', :]"
   ]
  },
  {
   "cell_type": "code",
   "execution_count": 9,
   "metadata": {},
   "outputs": [
    {
     "data": {
      "text/html": [
       "<div>\n",
       "<style scoped>\n",
       "    .dataframe tbody tr th:only-of-type {\n",
       "        vertical-align: middle;\n",
       "    }\n",
       "\n",
       "    .dataframe tbody tr th {\n",
       "        vertical-align: top;\n",
       "    }\n",
       "\n",
       "    .dataframe thead th {\n",
       "        text-align: right;\n",
       "    }\n",
       "</style>\n",
       "<table border=\"1\" class=\"dataframe\">\n",
       "  <thead>\n",
       "    <tr style=\"text-align: right;\">\n",
       "      <th></th>\n",
       "      <th>id_ex_pair</th>\n",
       "      <th>exchange</th>\n",
       "      <th>pair</th>\n",
       "      <th>dt</th>\n",
       "      <th>bid_ask</th>\n",
       "      <th>price</th>\n",
       "      <th>amount</th>\n",
       "      <th>volume</th>\n",
       "    </tr>\n",
       "  </thead>\n",
       "  <tbody>\n",
       "    <tr>\n",
       "      <th>3</th>\n",
       "      <td>19</td>\n",
       "      <td>binance</td>\n",
       "      <td>ETH/USDT</td>\n",
       "      <td>2018-10-01 15:22:16</td>\n",
       "      <td>bid</td>\n",
       "      <td>227.8</td>\n",
       "      <td>123.881</td>\n",
       "      <td>28220</td>\n",
       "    </tr>\n",
       "    <tr>\n",
       "      <th>4</th>\n",
       "      <td>19</td>\n",
       "      <td>binance</td>\n",
       "      <td>ETH/USDT</td>\n",
       "      <td>2018-10-01 15:21:35</td>\n",
       "      <td>bid</td>\n",
       "      <td>229.63</td>\n",
       "      <td>0.43505</td>\n",
       "      <td>99.9005</td>\n",
       "    </tr>\n",
       "    <tr>\n",
       "      <th>7</th>\n",
       "      <td>19</td>\n",
       "      <td>binance</td>\n",
       "      <td>ETH/USDT</td>\n",
       "      <td>2018-10-01 15:21:16</td>\n",
       "      <td>bid</td>\n",
       "      <td>228.3</td>\n",
       "      <td>49.0977</td>\n",
       "      <td>11209</td>\n",
       "    </tr>\n",
       "    <tr>\n",
       "      <th>8</th>\n",
       "      <td>19</td>\n",
       "      <td>binance</td>\n",
       "      <td>ETH/USDT</td>\n",
       "      <td>2018-10-01 15:21:16</td>\n",
       "      <td>bid</td>\n",
       "      <td>228.76</td>\n",
       "      <td>53.0818</td>\n",
       "      <td>12143</td>\n",
       "    </tr>\n",
       "    <tr>\n",
       "      <th>11</th>\n",
       "      <td>19</td>\n",
       "      <td>binance</td>\n",
       "      <td>ETH/USDT</td>\n",
       "      <td>2018-10-01 15:21:16</td>\n",
       "      <td>bid</td>\n",
       "      <td>228.81</td>\n",
       "      <td>62.9616</td>\n",
       "      <td>14406.2</td>\n",
       "    </tr>\n",
       "  </tbody>\n",
       "</table>\n",
       "</div>"
      ],
      "text/plain": [
       "    id_ex_pair exchange      pair                  dt bid_ask   price  \\\n",
       "3           19  binance  ETH/USDT 2018-10-01 15:22:16     bid   227.8   \n",
       "4           19  binance  ETH/USDT 2018-10-01 15:21:35     bid  229.63   \n",
       "7           19  binance  ETH/USDT 2018-10-01 15:21:16     bid   228.3   \n",
       "8           19  binance  ETH/USDT 2018-10-01 15:21:16     bid  228.76   \n",
       "11          19  binance  ETH/USDT 2018-10-01 15:21:16     bid  228.81   \n",
       "\n",
       "     amount   volume  \n",
       "3   123.881    28220  \n",
       "4   0.43505  99.9005  \n",
       "7   49.0977    11209  \n",
       "8   53.0818    12143  \n",
       "11  62.9616  14406.2  "
      ]
     },
     "execution_count": 9,
     "metadata": {},
     "output_type": "execute_result"
    }
   ],
   "source": [
    "bids.head()"
   ]
  },
  {
   "cell_type": "code",
   "execution_count": 10,
   "metadata": {},
   "outputs": [
    {
     "name": "stderr",
     "output_type": "stream",
     "text": [
      "C:\\Anaconda3\\lib\\site-packages\\ipykernel_launcher.py:1: SettingWithCopyWarning: \n",
      "A value is trying to be set on a copy of a slice from a DataFrame.\n",
      "Try using .loc[row_indexer,col_indexer] = value instead\n",
      "\n",
      "See the caveats in the documentation: http://pandas.pydata.org/pandas-docs/stable/indexing.html#indexing-view-versus-copy\n",
      "  \"\"\"Entry point for launching an IPython kernel.\n"
     ]
    }
   ],
   "source": [
    "bids['a'] = 1"
   ]
  },
  {
   "cell_type": "code",
   "execution_count": 11,
   "metadata": {},
   "outputs": [
    {
     "data": {
      "text/plain": [
       "Decimal('0.09')"
      ]
     },
     "execution_count": 11,
     "metadata": {},
     "output_type": "execute_result"
    }
   ],
   "source": [
    "Decimal('0.07') + Decimal('0.02')"
   ]
  },
  {
   "cell_type": "code",
   "execution_count": 12,
   "metadata": {},
   "outputs": [
    {
     "data": {
      "text/plain": [
       "0.12000000000000001"
      ]
     },
     "execution_count": 12,
     "metadata": {},
     "output_type": "execute_result"
    }
   ],
   "source": [
    "0.1 + 0.02"
   ]
  },
  {
   "cell_type": "code",
   "execution_count": null,
   "metadata": {},
   "outputs": [],
   "source": []
  }
 ],
 "metadata": {
  "hide_input": false,
  "kernelspec": {
   "display_name": "Python 3",
   "language": "python",
   "name": "python3"
  },
  "language_info": {
   "codemirror_mode": {
    "name": "ipython",
    "version": 3
   },
   "file_extension": ".py",
   "mimetype": "text/x-python",
   "name": "python",
   "nbconvert_exporter": "python",
   "pygments_lexer": "ipython3",
   "version": "3.6.5"
  }
 },
 "nbformat": 4,
 "nbformat_minor": 2
}
