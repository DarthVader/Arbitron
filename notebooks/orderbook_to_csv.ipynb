{
 "cells": [
  {
   "cell_type": "code",
   "execution_count": 2,
   "metadata": {},
   "outputs": [
    {
     "name": "stderr",
     "output_type": "stream",
     "text": [
      "C:\\Anaconda3\\lib\\site-packages\\sklearn\\cross_validation.py:41: DeprecationWarning: This module was deprecated in version 0.18 in favor of the model_selection module into which all the refactored classes and functions are moved. Also note that the interface of the new CV iterators are different from that of this module. This module will be removed in 0.20.\n",
      "  \"This module will be removed in 0.20.\", DeprecationWarning)\n"
     ]
    }
   ],
   "source": [
    "import pandas as pd\n",
    "from sqlalchemy import create_engine\n",
    "import numpy as np\n",
    "from sklearn import linear_model\n",
    "from sklearn.linear_model import LogisticRegression\n",
    "from sklearn.linear_model import LinearRegression\n",
    "from sklearn import metrics\n",
    "from sklearn.cross_validation import cross_val_score\n",
    "import datetime as dt\n",
    "import matplotlib.pyplot as plt\n",
    "%matplotlib inline\n",
    "from alex.database import Database"
   ]
  },
  {
   "cell_type": "code",
   "execution_count": 3,
   "metadata": {
    "scrolled": true
   },
   "outputs": [],
   "source": [
    "db = Database()"
   ]
  },
  {
   "cell_type": "code",
   "execution_count": 4,
   "metadata": {},
   "outputs": [],
   "source": [
    "exchange = \"binance\"\n",
    "pair = \"ETH/USDT\""
   ]
  },
  {
   "cell_type": "code",
   "execution_count": 5,
   "metadata": {},
   "outputs": [],
   "source": [
    "sql_orderbook = f\"select * from tvf_get_order_book_snapshots(1440) where exchange='{exchange}' and pair='{pair}'\"\n",
    "df_orderbook = db.query(sql_orderbook)"
   ]
  },
  {
   "cell_type": "code",
   "execution_count": 16,
   "metadata": {},
   "outputs": [
    {
     "data": {
      "text/html": [
       "<div>\n",
       "<style scoped>\n",
       "    .dataframe tbody tr th:only-of-type {\n",
       "        vertical-align: middle;\n",
       "    }\n",
       "\n",
       "    .dataframe tbody tr th {\n",
       "        vertical-align: top;\n",
       "    }\n",
       "\n",
       "    .dataframe thead th {\n",
       "        text-align: right;\n",
       "    }\n",
       "</style>\n",
       "<table border=\"1\" class=\"dataframe\">\n",
       "  <thead>\n",
       "    <tr style=\"text-align: right;\">\n",
       "      <th></th>\n",
       "      <th>dt</th>\n",
       "      <th>exchange</th>\n",
       "      <th>pair</th>\n",
       "      <th>bid_ask</th>\n",
       "      <th>price</th>\n",
       "      <th>amount</th>\n",
       "      <th>volume</th>\n",
       "    </tr>\n",
       "  </thead>\n",
       "  <tbody>\n",
       "    <tr>\n",
       "      <th>54070</th>\n",
       "      <td>2018-09-27 18:49:10</td>\n",
       "      <td>binance</td>\n",
       "      <td>ETH/USDT</td>\n",
       "      <td>bid</td>\n",
       "      <td>214.979996</td>\n",
       "      <td>0.07062</td>\n",
       "      <td>15.181888</td>\n",
       "    </tr>\n",
       "    <tr>\n",
       "      <th>54071</th>\n",
       "      <td>2018-09-27 18:49:10</td>\n",
       "      <td>binance</td>\n",
       "      <td>ETH/USDT</td>\n",
       "      <td>bid</td>\n",
       "      <td>214.970001</td>\n",
       "      <td>6.65893</td>\n",
       "      <td>1431.470093</td>\n",
       "    </tr>\n",
       "    <tr>\n",
       "      <th>54072</th>\n",
       "      <td>2018-09-27 18:49:10</td>\n",
       "      <td>binance</td>\n",
       "      <td>ETH/USDT</td>\n",
       "      <td>ask</td>\n",
       "      <td>220.089996</td>\n",
       "      <td>2.01480</td>\n",
       "      <td>443.437347</td>\n",
       "    </tr>\n",
       "    <tr>\n",
       "      <th>54062</th>\n",
       "      <td>2018-09-27 18:49:10</td>\n",
       "      <td>binance</td>\n",
       "      <td>ETH/USDT</td>\n",
       "      <td>ask</td>\n",
       "      <td>218.899994</td>\n",
       "      <td>0.72276</td>\n",
       "      <td>158.212158</td>\n",
       "    </tr>\n",
       "    <tr>\n",
       "      <th>54098</th>\n",
       "      <td>2018-09-27 18:49:10</td>\n",
       "      <td>binance</td>\n",
       "      <td>ETH/USDT</td>\n",
       "      <td>bid</td>\n",
       "      <td>214.800003</td>\n",
       "      <td>4.11392</td>\n",
       "      <td>883.670044</td>\n",
       "    </tr>\n",
       "  </tbody>\n",
       "</table>\n",
       "</div>"
      ],
      "text/plain": [
       "                       dt exchange      pair bid_ask       price   amount  \\\n",
       "54070 2018-09-27 18:49:10  binance  ETH/USDT     bid  214.979996  0.07062   \n",
       "54071 2018-09-27 18:49:10  binance  ETH/USDT     bid  214.970001  6.65893   \n",
       "54072 2018-09-27 18:49:10  binance  ETH/USDT     ask  220.089996  2.01480   \n",
       "54062 2018-09-27 18:49:10  binance  ETH/USDT     ask  218.899994  0.72276   \n",
       "54098 2018-09-27 18:49:10  binance  ETH/USDT     bid  214.800003  4.11392   \n",
       "\n",
       "            volume  \n",
       "54070    15.181888  \n",
       "54071  1431.470093  \n",
       "54072   443.437347  \n",
       "54062   158.212158  \n",
       "54098   883.670044  "
      ]
     },
     "execution_count": 16,
     "metadata": {},
     "output_type": "execute_result"
    }
   ],
   "source": [
    "df_orderbook.sort_values('dt').tail()"
   ]
  },
  {
   "cell_type": "code",
   "execution_count": 6,
   "metadata": {},
   "outputs": [
    {
     "name": "stdout",
     "output_type": "stream",
     "text": [
      "<class 'pandas.core.frame.DataFrame'>\n",
      "RangeIndex: 106856 entries, 0 to 106855\n",
      "Data columns (total 7 columns):\n",
      "dt          106856 non-null datetime64[ns]\n",
      "exchange    106856 non-null object\n",
      "pair        106856 non-null object\n",
      "bid_ask     106856 non-null object\n",
      "price       106856 non-null float64\n",
      "amount      106856 non-null float64\n",
      "volume      106856 non-null float64\n",
      "dtypes: datetime64[ns](1), float64(3), object(3)\n",
      "memory usage: 5.7+ MB\n"
     ]
    }
   ],
   "source": [
    "df_orderbook.info()"
   ]
  },
  {
   "cell_type": "code",
   "execution_count": 8,
   "metadata": {},
   "outputs": [
    {
     "data": {
      "text/plain": [
       "533"
      ]
     },
     "execution_count": 8,
     "metadata": {},
     "output_type": "execute_result"
    }
   ],
   "source": [
    "len(df_orderbook.dt.unique())"
   ]
  },
  {
   "cell_type": "code",
   "execution_count": null,
   "metadata": {},
   "outputs": [],
   "source": []
  }
 ],
 "metadata": {
  "hide_input": false,
  "kernelspec": {
   "display_name": "Python 3",
   "language": "python",
   "name": "python3"
  },
  "language_info": {
   "codemirror_mode": {
    "name": "ipython",
    "version": 3
   },
   "file_extension": ".py",
   "mimetype": "text/x-python",
   "name": "python",
   "nbconvert_exporter": "python",
   "pygments_lexer": "ipython3",
   "version": "3.6.5"
  }
 },
 "nbformat": 4,
 "nbformat_minor": 2
}
