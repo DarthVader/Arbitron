{
 "cells": [
  {
   "cell_type": "markdown",
   "metadata": {},
   "source": [
    "# Workers ring fire monitoring"
   ]
  },
  {
   "cell_type": "code",
   "execution_count": 1,
   "metadata": {
    "ExecuteTime": {
     "end_time": "2018-06-29T14:05:46.793132Z",
     "start_time": "2018-06-29T14:05:46.784531Z"
    }
   },
   "outputs": [],
   "source": [
    "import numpy as np\n",
    "import pandas as pd\n",
    "import time\n",
    "import matplotlib.pyplot as plt\n",
    "from datetime import datetime, timedelta\n",
    "from cassandra.cluster import Cluster\n",
    "from cassandra.auth import PlainTextAuthenticator\n",
    "from cassandra.query import dict_factory\n",
    "plt.style.use('seaborn-white')\n",
    "%matplotlib inline"
   ]
  },
  {
   "cell_type": "code",
   "execution_count": 2,
   "metadata": {
    "ExecuteTime": {
     "end_time": "2018-06-29T11:21:57.937280Z",
     "start_time": "2018-06-29T11:21:57.932881Z"
    }
   },
   "outputs": [],
   "source": [
    "def pandas_factory(colnames, rows):\n",
    "    return pd.DataFrame(rows, columns=colnames)"
   ]
  },
  {
   "cell_type": "code",
   "execution_count": 3,
   "metadata": {
    "ExecuteTime": {
     "end_time": "2018-06-29T11:22:35.511073Z",
     "start_time": "2018-06-29T11:22:35.506905Z"
    }
   },
   "outputs": [],
   "source": [
    "seeds = ['127.0.0.1', '10.7.0.10', '10.7.0.21']"
   ]
  },
  {
   "cell_type": "code",
   "execution_count": 4,
   "metadata": {
    "ExecuteTime": {
     "end_time": "2018-06-29T11:22:39.709122Z",
     "start_time": "2018-06-29T11:22:39.700064Z"
    }
   },
   "outputs": [],
   "source": [
    "cluster = Cluster(contact_points=seeds, port=9042) #, auth_provider=auth_provider)"
   ]
  },
  {
   "cell_type": "code",
   "execution_count": 85,
   "metadata": {
    "ExecuteTime": {
     "end_time": "2018-06-29T14:10:00.304116Z",
     "start_time": "2018-06-29T14:10:00.040120Z"
    }
   },
   "outputs": [],
   "source": [
    "session = cluster.connect(keyspace='temp')\n",
    "session.row_factory = pandas_factory\n",
    "session.default_fetch_size = 55"
   ]
  },
  {
   "cell_type": "code",
   "execution_count": 86,
   "metadata": {
    "ExecuteTime": {
     "end_time": "2018-06-29T18:58:07.394389Z",
     "start_time": "2018-06-29T18:58:07.281256Z"
    },
    "hide_input": false,
    "scrolled": false
   },
   "outputs": [
    {
     "data": {
      "text/html": [
       "<div>\n",
       "<style scoped>\n",
       "    .dataframe tbody tr th:only-of-type {\n",
       "        vertical-align: middle;\n",
       "    }\n",
       "\n",
       "    .dataframe tbody tr th {\n",
       "        vertical-align: top;\n",
       "    }\n",
       "\n",
       "    .dataframe thead th {\n",
       "        text-align: right;\n",
       "    }\n",
       "</style>\n",
       "<table border=\"1\" class=\"dataframe\">\n",
       "  <thead>\n",
       "    <tr style=\"text-align: right;\">\n",
       "      <th></th>\n",
       "      <th>ip</th>\n",
       "      <th>last_run</th>\n",
       "      <th>message</th>\n",
       "      <th>workers_count</th>\n",
       "      <th>timestamp</th>\n",
       "    </tr>\n",
       "    <tr>\n",
       "      <th>date</th>\n",
       "      <th></th>\n",
       "      <th></th>\n",
       "      <th></th>\n",
       "      <th></th>\n",
       "      <th></th>\n",
       "    </tr>\n",
       "  </thead>\n",
       "  <tbody>\n",
       "    <tr>\n",
       "      <th>2018-07-06 17:29:41.662</th>\n",
       "      <td>188.32.153.99</td>\n",
       "      <td>2018-07-06 17:29:41.684</td>\n",
       "      <td>GORO</td>\n",
       "      <td>None</td>\n",
       "      <td>1530898181662</td>\n",
       "    </tr>\n",
       "    <tr>\n",
       "      <th>2018-07-06 17:29:38.608</th>\n",
       "      <td>188.32.153.99</td>\n",
       "      <td>2018-07-06 17:29:38.493</td>\n",
       "      <td>GORO</td>\n",
       "      <td>None</td>\n",
       "      <td>1530898178608</td>\n",
       "    </tr>\n",
       "    <tr>\n",
       "      <th>2018-07-06 17:29:35.312</th>\n",
       "      <td>188.32.153.99</td>\n",
       "      <td>2018-07-06 17:29:35.333</td>\n",
       "      <td>GORO</td>\n",
       "      <td>None</td>\n",
       "      <td>1530898175312</td>\n",
       "    </tr>\n",
       "    <tr>\n",
       "      <th>2018-07-06 17:29:33.778</th>\n",
       "      <td>188.32.153.99</td>\n",
       "      <td>2018-07-06 17:29:33.692</td>\n",
       "      <td>GORO</td>\n",
       "      <td>None</td>\n",
       "      <td>1530898173777</td>\n",
       "    </tr>\n",
       "    <tr>\n",
       "      <th>2018-07-06 17:29:30.568</th>\n",
       "      <td>188.32.153.99</td>\n",
       "      <td>2018-07-06 17:29:30.594</td>\n",
       "      <td>GORO</td>\n",
       "      <td>None</td>\n",
       "      <td>1530898170568</td>\n",
       "    </tr>\n",
       "    <tr>\n",
       "      <th>2018-07-06 17:29:29.034</th>\n",
       "      <td>195.68.129.2</td>\n",
       "      <td>2018-07-06 17:29:28.992</td>\n",
       "      <td>Ganymede</td>\n",
       "      <td>None</td>\n",
       "      <td>1530898169033</td>\n",
       "    </tr>\n",
       "    <tr>\n",
       "      <th>2018-07-06 17:29:27.515</th>\n",
       "      <td>188.32.153.99</td>\n",
       "      <td>2018-07-06 17:29:27.428</td>\n",
       "      <td>GORO</td>\n",
       "      <td>None</td>\n",
       "      <td>1530898167515</td>\n",
       "    </tr>\n",
       "    <tr>\n",
       "      <th>2018-07-06 17:29:26.028</th>\n",
       "      <td>195.68.129.2</td>\n",
       "      <td>2018-07-06 17:29:25.909</td>\n",
       "      <td>Ganymede</td>\n",
       "      <td>None</td>\n",
       "      <td>1530898166028</td>\n",
       "    </tr>\n",
       "    <tr>\n",
       "      <th>2018-07-06 17:29:24.333</th>\n",
       "      <td>188.32.153.99</td>\n",
       "      <td>2018-07-06 17:29:24.317</td>\n",
       "      <td>GORO</td>\n",
       "      <td>None</td>\n",
       "      <td>1530898164333</td>\n",
       "    </tr>\n",
       "    <tr>\n",
       "      <th>2018-07-06 17:29:22.945</th>\n",
       "      <td>195.68.129.2</td>\n",
       "      <td>2018-07-06 17:29:22.785</td>\n",
       "      <td>Ganymede</td>\n",
       "      <td>None</td>\n",
       "      <td>1530898162945</td>\n",
       "    </tr>\n",
       "  </tbody>\n",
       "</table>\n",
       "</div>"
      ],
      "text/plain": [
       "                                    ip                last_run   message  \\\n",
       "date                                                                       \n",
       "2018-07-06 17:29:41.662  188.32.153.99 2018-07-06 17:29:41.684      GORO   \n",
       "2018-07-06 17:29:38.608  188.32.153.99 2018-07-06 17:29:38.493      GORO   \n",
       "2018-07-06 17:29:35.312  188.32.153.99 2018-07-06 17:29:35.333      GORO   \n",
       "2018-07-06 17:29:33.778  188.32.153.99 2018-07-06 17:29:33.692      GORO   \n",
       "2018-07-06 17:29:30.568  188.32.153.99 2018-07-06 17:29:30.594      GORO   \n",
       "2018-07-06 17:29:29.034   195.68.129.2 2018-07-06 17:29:28.992  Ganymede   \n",
       "2018-07-06 17:29:27.515  188.32.153.99 2018-07-06 17:29:27.428      GORO   \n",
       "2018-07-06 17:29:26.028   195.68.129.2 2018-07-06 17:29:25.909  Ganymede   \n",
       "2018-07-06 17:29:24.333  188.32.153.99 2018-07-06 17:29:24.317      GORO   \n",
       "2018-07-06 17:29:22.945   195.68.129.2 2018-07-06 17:29:22.785  Ganymede   \n",
       "\n",
       "                        workers_count      timestamp  \n",
       "date                                                  \n",
       "2018-07-06 17:29:41.662          None  1530898181662  \n",
       "2018-07-06 17:29:38.608          None  1530898178608  \n",
       "2018-07-06 17:29:35.312          None  1530898175312  \n",
       "2018-07-06 17:29:33.778          None  1530898173777  \n",
       "2018-07-06 17:29:30.568          None  1530898170568  \n",
       "2018-07-06 17:29:29.034          None  1530898169033  \n",
       "2018-07-06 17:29:27.515          None  1530898167515  \n",
       "2018-07-06 17:29:26.028          None  1530898166028  \n",
       "2018-07-06 17:29:24.333          None  1530898164333  \n",
       "2018-07-06 17:29:22.945          None  1530898162945  "
      ]
     },
     "execution_count": 86,
     "metadata": {},
     "output_type": "execute_result"
    }
   ],
   "source": [
    "# fetch data from cassandra db\n",
    "cql = \"select toTimeStamp(id) as date, ip, last_run, message, workers_count from temp.log;\"\n",
    "res = session.execute(cql, timeout=5)\n",
    "df = res._current_rows\n",
    "df = df.set_index('date')\n",
    "df['timestamp'] = np.int64(df.index.to_series().apply(pd.Timestamp).astype(np.int64).values / 1e6)\n",
    "\n",
    "df1 = df[df.ip=='79.111.12.34']\n",
    "df2 = df[df.ip=='195.68.129.2']\n",
    "df3 = df[df.ip=='188.32.153.99']\n",
    "\n",
    "start_ts = int(df.index.min().timestamp()*1000)\n",
    "end_ts = int(df.index.max().timestamp()*1000)\n",
    "\n",
    "df.head(10)"
   ]
  },
  {
   "cell_type": "code",
   "execution_count": 87,
   "metadata": {
    "ExecuteTime": {
     "end_time": "2018-06-29T18:58:10.152900Z",
     "start_time": "2018-06-29T18:58:10.000590Z"
    },
    "hide_input": false,
    "scrolled": true
   },
   "outputs": [
    {
     "data": {
      "image/png": "[encoded data removed]",
      "text/plain": [
       "<Figure size 1512x288 with 1 Axes>"
      ]
     },
     "metadata": {},
     "output_type": "display_data"
    }
   ],
   "source": [
    "x1 = pd.to_datetime(df1.index)\n",
    "y1 = df1.workers_count.values\n",
    "x2 = pd.to_datetime(df2.index)\n",
    "y2 = df2.workers_count.values\n",
    "x3 = pd.to_datetime(df3.index)\n",
    "y3 = df3.workers_count.values\n",
    "\n",
    "fig, ax = plt.subplots(figsize=(21,4))\n",
    "ax.scatter(x1, [1]*len(x1), marker='o', s=200, color='green')\n",
    "ax.scatter(x2, [1.5]*len(x2), marker='o', s=200, color='darkorange')\n",
    "ax.scatter(x3, [0.5]*len(x3), marker='o', s=200, color='blue')\n",
    "\n",
    "fig.autofmt_xdate()\n",
    "plt.grid(True)\n",
    "plt.ylim(0, 1.8)\n",
    "\n",
    "#ax.yaxis.set_visible(False)\n",
    "ax.spines['right'].set_visible(False)\n",
    "ax.spines['left'].set_visible(False)\n",
    "ax.spines['top'].set_visible(False)\n",
    "ax.xaxis.set_ticks_position('bottom')\n",
    "\n",
    "ax.get_yaxis().set_ticklabels([])\n",
    "space = pd.to_timedelta(2, unit='s') # 1 second interval to prepend\n",
    "plt.xlim(x1[0] - space, x2[-1] + space)\n",
    "ax.set_xticks(x1.append(x2).append(x3), minor=False)\n",
    "ax.set_yticks([0.5,1,1.5], minor=False)\n",
    "\n",
    "plt.show()"
   ]
  },
  {
   "cell_type": "code",
   "execution_count": null,
   "metadata": {},
   "outputs": [],
   "source": []
  }
 ],
 "metadata": {
  "hide_input": true,
  "kernelspec": {
   "display_name": "Python 3",
   "language": "python",
   "name": "python3"
  },
  "language_info": {
   "codemirror_mode": {
    "name": "ipython",
    "version": 3
   },
   "file_extension": ".py",
   "mimetype": "text/x-python",
   "name": "python",
   "nbconvert_exporter": "python",
   "pygments_lexer": "ipython3",
   "version": "3.6.5"
  }
 },
 "nbformat": 4,
 "nbformat_minor": 2
}
