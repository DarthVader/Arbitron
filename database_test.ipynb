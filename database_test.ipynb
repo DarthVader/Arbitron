{
 "cells": [
  {
   "cell_type": "code",
   "execution_count": 76,
   "metadata": {
    "ExecuteTime": {
     "end_time": "2018-07-22T20:43:15.533040Z",
     "start_time": "2018-07-22T20:43:15.530043Z"
    },
    "hide_input": false
   },
   "outputs": [],
   "source": [
    "from pprint import pprint\n",
    "import pandas as pd\n",
    "from markets.markets import Markets\n",
    "from database.database import Database\n",
    "from settings.settings import Settings"
   ]
  },
  {
   "cell_type": "code",
   "execution_count": 2,
   "metadata": {
    "ExecuteTime": {
     "end_time": "2018-07-22T20:21:33.328019Z",
     "start_time": "2018-07-22T20:21:31.836019Z"
    }
   },
   "outputs": [
    {
     "name": "stdout",
     "output_type": "stream",
     "text": [
      "Connecting to database...OK\n"
     ]
    }
   ],
   "source": [
    "db = Database()"
   ]
  },
  {
   "cell_type": "code",
   "execution_count": 3,
   "metadata": {
    "ExecuteTime": {
     "end_time": "2018-07-22T20:21:33.610019Z",
     "start_time": "2018-07-22T20:21:33.329020Z"
    }
   },
   "outputs": [],
   "source": [
    "db.get_exchanges()\n",
    "db.get_tokens()\n",
    "db.get_pairs()"
   ]
  },
  {
   "cell_type": "code",
   "execution_count": 4,
   "metadata": {
    "ExecuteTime": {
     "end_time": "2018-07-22T20:21:33.614019Z",
     "start_time": "2018-07-22T20:21:33.611019Z"
    }
   },
   "outputs": [],
   "source": [
    "df_exchangs = db.df_exchanges\n",
    "df_tokens = db.df_tokens\n",
    "df_pairs = db.df_pairs[['pair', 'exchange']]"
   ]
  },
  {
   "cell_type": "code",
   "execution_count": 5,
   "metadata": {
    "ExecuteTime": {
     "end_time": "2018-07-22T20:21:33.625020Z",
     "start_time": "2018-07-22T20:21:33.615022Z"
    }
   },
   "outputs": [
    {
     "name": "stdout",
     "output_type": "stream",
     "text": [
      "CCXT version: 1.15.27\n"
     ]
    }
   ],
   "source": [
    "markets = Markets(db)"
   ]
  },
  {
   "cell_type": "code",
   "execution_count": 6,
   "metadata": {
    "ExecuteTime": {
     "end_time": "2018-07-22T20:21:33.638020Z",
     "start_time": "2018-07-22T20:21:33.626020Z"
    }
   },
   "outputs": [],
   "source": [
    "#df_pairs.sort_values(['pair','exchange']).set_index('pair')\n",
    "pairs = pd.DataFrame(df_pairs.groupby(['pair'])['exchange'].apply(list)).exchange.to_dict()"
   ]
  },
  {
   "cell_type": "code",
   "execution_count": 7,
   "metadata": {
    "ExecuteTime": {
     "end_time": "2018-07-22T20:21:33.655021Z",
     "start_time": "2018-07-22T20:21:33.639019Z"
    },
    "scrolled": true
   },
   "outputs": [
    {
     "data": {
      "text/plain": [
       "{'ADA/BTC': ['binance', 'bittrex', 'hitbtc2', 'cryptopia'],\n",
       " 'ADA/DOGE': ['cryptopia'],\n",
       " 'ADA/ETH': ['binance', 'bittrex', 'hitbtc2'],\n",
       " 'ADA/LTC': ['cryptopia'],\n",
       " 'ADA/USDT': ['binance', 'bittrex', 'hitbtc2'],\n",
       " 'BCH/BTC': ['kraken',\n",
       "  'poloniex',\n",
       "  'yobit',\n",
       "  'binance',\n",
       "  'okex',\n",
       "  'bittrex',\n",
       "  'exmo',\n",
       "  'hitbtc2',\n",
       "  'cryptopia'],\n",
       " 'BCH/DOGE': ['yobit', 'cryptopia'],\n",
       " 'BCH/ETH': ['poloniex',\n",
       "  'yobit',\n",
       "  'binance',\n",
       "  'okex',\n",
       "  'bittrex',\n",
       "  'exmo',\n",
       "  'hitbtc2'],\n",
       " 'BCH/LTC': ['cryptopia'],\n",
       " 'BCH/USD': ['kraken', 'yobit', 'okex', 'exmo'],\n",
       " 'BCH/USDT': ['poloniex',\n",
       "  'binance',\n",
       "  'okex',\n",
       "  'bittrex',\n",
       "  'hitbtc2',\n",
       "  'cryptopia'],\n",
       " 'BTC/USD': ['kraken', 'yobit', 'okex', 'bittrex', 'exmo'],\n",
       " 'BTC/USDT': ['poloniex',\n",
       "  'binance',\n",
       "  'okex',\n",
       "  'bittrex',\n",
       "  'exmo',\n",
       "  'hitbtc2',\n",
       "  'cryptopia'],\n",
       " 'BTG/BTC': ['yobit', 'binance', 'okex', 'bittrex', 'exmo', 'hitbtc2'],\n",
       " 'BTG/DOGE': ['yobit'],\n",
       " 'BTG/ETH': ['yobit', 'binance', 'bittrex', 'hitbtc2'],\n",
       " 'BTG/USD': ['yobit', 'okex', 'exmo'],\n",
       " 'BTG/USDT': ['okex', 'bittrex', 'hitbtc2'],\n",
       " 'DASH/BTC': ['kraken',\n",
       "  'poloniex',\n",
       "  'yobit',\n",
       "  'binance',\n",
       "  'okex',\n",
       "  'bittrex',\n",
       "  'exmo',\n",
       "  'hitbtc2',\n",
       "  'cryptopia'],\n",
       " 'DASH/DOGE': ['yobit', 'cryptopia'],\n",
       " 'DASH/ETH': ['yobit', 'binance', 'okex', 'bittrex', 'hitbtc2'],\n",
       " 'DASH/LTC': ['cryptopia'],\n",
       " 'DASH/USD': ['kraken', 'yobit', 'exmo'],\n",
       " 'DASH/USDT': ['poloniex', 'okex', 'bittrex', 'hitbtc2', 'cryptopia'],\n",
       " 'DASH/XMR': ['poloniex'],\n",
       " 'DCR/BTC': ['poloniex', 'yobit', 'okex', 'bittrex', 'cryptopia'],\n",
       " 'DCR/DOGE': ['yobit', 'cryptopia'],\n",
       " 'DCR/ETH': ['yobit', 'okex'],\n",
       " 'DCR/LTC': ['cryptopia'],\n",
       " 'DCR/USD': ['yobit'],\n",
       " 'DCR/USDT': ['okex', 'bittrex', 'cryptopia'],\n",
       " 'DOGE/BTC': ['poloniex', 'yobit', 'bittrex', 'exmo', 'hitbtc2', 'cryptopia'],\n",
       " 'DOGE/ETH': ['yobit', 'hitbtc2'],\n",
       " 'DOGE/LTC': ['cryptopia'],\n",
       " 'DOGE/USD': ['yobit'],\n",
       " 'DOGE/USDT': ['hitbtc2', 'cryptopia'],\n",
       " 'EOS/BTC': ['kraken',\n",
       "  'yobit',\n",
       "  'binance',\n",
       "  'okex',\n",
       "  'exmo',\n",
       "  'hitbtc2',\n",
       "  'cryptopia'],\n",
       " 'EOS/DOGE': ['yobit', 'cryptopia'],\n",
       " 'EOS/ETH': ['kraken', 'yobit', 'binance', 'okex', 'hitbtc2'],\n",
       " 'EOS/LTC': ['cryptopia'],\n",
       " 'EOS/USD': ['kraken', 'yobit', 'okex', 'exmo'],\n",
       " 'EOS/USDT': ['binance', 'okex', 'hitbtc2'],\n",
       " 'ETC/BTC': ['kraken',\n",
       "  'poloniex',\n",
       "  'yobit',\n",
       "  'binance',\n",
       "  'okex',\n",
       "  'bittrex',\n",
       "  'exmo',\n",
       "  'hitbtc2',\n",
       "  'cryptopia'],\n",
       " 'ETC/DOGE': ['yobit', 'cryptopia'],\n",
       " 'ETC/ETH': ['kraken',\n",
       "  'poloniex',\n",
       "  'yobit',\n",
       "  'binance',\n",
       "  'okex',\n",
       "  'bittrex',\n",
       "  'hitbtc2'],\n",
       " 'ETC/LTC': ['cryptopia'],\n",
       " 'ETC/USD': ['kraken', 'yobit', 'okex', 'exmo'],\n",
       " 'ETC/USDT': ['poloniex',\n",
       "  'binance',\n",
       "  'okex',\n",
       "  'bittrex',\n",
       "  'hitbtc2',\n",
       "  'cryptopia'],\n",
       " 'ETH/BTC': ['kraken',\n",
       "  'poloniex',\n",
       "  'yobit',\n",
       "  'binance',\n",
       "  'okex',\n",
       "  'bittrex',\n",
       "  'exmo',\n",
       "  'hitbtc2',\n",
       "  'cryptopia'],\n",
       " 'ETH/DOGE': ['yobit', 'cryptopia'],\n",
       " 'ETH/LTC': ['exmo', 'cryptopia'],\n",
       " 'ETH/USD': ['kraken', 'yobit', 'okex', 'bittrex', 'exmo'],\n",
       " 'ETH/USDT': ['poloniex',\n",
       "  'binance',\n",
       "  'okex',\n",
       "  'bittrex',\n",
       "  'exmo',\n",
       "  'hitbtc2',\n",
       "  'cryptopia'],\n",
       " 'ICX/BTC': ['binance', 'okex', 'hitbtc2'],\n",
       " 'ICX/ETH': ['binance', 'okex', 'hitbtc2'],\n",
       " 'ICX/USDT': ['binance', 'okex', 'hitbtc2'],\n",
       " 'LTC/BTC': ['kraken',\n",
       "  'poloniex',\n",
       "  'yobit',\n",
       "  'binance',\n",
       "  'okex',\n",
       "  'bittrex',\n",
       "  'exmo',\n",
       "  'hitbtc2',\n",
       "  'cryptopia'],\n",
       " 'LTC/DOGE': ['yobit'],\n",
       " 'LTC/ETH': ['yobit', 'binance', 'okex', 'bittrex', 'hitbtc2'],\n",
       " 'LTC/USD': ['kraken', 'yobit', 'okex', 'exmo'],\n",
       " 'LTC/USDT': ['poloniex',\n",
       "  'binance',\n",
       "  'okex',\n",
       "  'bittrex',\n",
       "  'hitbtc2',\n",
       "  'cryptopia'],\n",
       " 'LTC/XMR': ['poloniex'],\n",
       " 'NEO/BTC': ['binance', 'okex', 'bittrex', 'hitbtc2', 'cryptopia'],\n",
       " 'NEO/DOGE': ['cryptopia'],\n",
       " 'NEO/ETH': ['binance', 'okex', 'bittrex', 'hitbtc2'],\n",
       " 'NEO/LTC': ['cryptopia'],\n",
       " 'NEO/USD': ['okex'],\n",
       " 'NEO/USDT': ['binance', 'okex', 'bittrex', 'hitbtc2'],\n",
       " 'OMG/BTC': ['poloniex', 'binance', 'okex', 'bittrex', 'hitbtc2', 'cryptopia'],\n",
       " 'OMG/DOGE': ['cryptopia'],\n",
       " 'OMG/ETH': ['poloniex', 'binance', 'okex', 'bittrex', 'hitbtc2'],\n",
       " 'OMG/LTC': ['cryptopia'],\n",
       " 'OMG/USDT': ['okex', 'bittrex', 'hitbtc2'],\n",
       " 'SC/BTC': ['poloniex', 'binance', 'okex', 'bittrex', 'hitbtc2'],\n",
       " 'SC/ETH': ['binance', 'okex', 'bittrex'],\n",
       " 'SC/USDT': ['okex', 'bittrex'],\n",
       " 'TRX/BTC': ['yobit', 'binance', 'okex', 'bittrex', 'hitbtc2', 'cryptopia'],\n",
       " 'TRX/DOGE': ['yobit', 'cryptopia'],\n",
       " 'TRX/ETH': ['yobit', 'binance', 'okex', 'bittrex', 'hitbtc2'],\n",
       " 'TRX/LTC': ['cryptopia'],\n",
       " 'TRX/USD': ['yobit'],\n",
       " 'TRX/USDT': ['binance', 'okex', 'bittrex', 'hitbtc2'],\n",
       " 'USDT/BTC': ['yobit'],\n",
       " 'USDT/DOGE': ['yobit'],\n",
       " 'USDT/ETH': ['yobit'],\n",
       " 'USDT/USD': ['kraken', 'yobit', 'bittrex', 'exmo'],\n",
       " 'XDG/BTC': ['kraken'],\n",
       " 'XEM/BTC': ['poloniex',\n",
       "  'yobit',\n",
       "  'binance',\n",
       "  'okex',\n",
       "  'bittrex',\n",
       "  'hitbtc2',\n",
       "  'cryptopia'],\n",
       " 'XEM/DOGE': ['yobit', 'cryptopia'],\n",
       " 'XEM/ETH': ['yobit', 'binance', 'okex', 'bittrex', 'hitbtc2'],\n",
       " 'XEM/LTC': ['cryptopia'],\n",
       " 'XEM/USD': ['yobit'],\n",
       " 'XEM/USDT': ['okex', 'hitbtc2'],\n",
       " 'XLM/BTC': ['kraken',\n",
       "  'poloniex',\n",
       "  'binance',\n",
       "  'okex',\n",
       "  'bittrex',\n",
       "  'exmo',\n",
       "  'hitbtc2'],\n",
       " 'XLM/ETH': ['binance', 'okex', 'bittrex', 'hitbtc2'],\n",
       " 'XLM/USD': ['kraken', 'exmo'],\n",
       " 'XLM/USDT': ['poloniex', 'binance', 'okex', 'hitbtc2'],\n",
       " 'XMR/BTC': ['kraken',\n",
       "  'poloniex',\n",
       "  'binance',\n",
       "  'okex',\n",
       "  'bittrex',\n",
       "  'exmo',\n",
       "  'hitbtc2',\n",
       "  'cryptopia'],\n",
       " 'XMR/DOGE': ['cryptopia'],\n",
       " 'XMR/ETH': ['binance', 'okex', 'bittrex', 'hitbtc2'],\n",
       " 'XMR/LTC': ['cryptopia'],\n",
       " 'XMR/USD': ['kraken', 'exmo'],\n",
       " 'XMR/USDT': ['poloniex', 'okex', 'bittrex', 'hitbtc2', 'cryptopia'],\n",
       " 'XRP/BTC': ['kraken',\n",
       "  'poloniex',\n",
       "  'binance',\n",
       "  'okex',\n",
       "  'bittrex',\n",
       "  'exmo',\n",
       "  'hitbtc2'],\n",
       " 'XRP/ETH': ['binance', 'okex', 'bittrex', 'hitbtc2'],\n",
       " 'XRP/USD': ['kraken', 'exmo'],\n",
       " 'XRP/USDT': ['poloniex', 'binance', 'okex', 'bittrex', 'hitbtc2'],\n",
       " 'XVG/BTC': ['yobit', 'binance', 'bittrex', 'hitbtc2', 'cryptopia'],\n",
       " 'XVG/DOGE': ['yobit', 'cryptopia'],\n",
       " 'XVG/ETH': ['yobit', 'binance', 'hitbtc2'],\n",
       " 'XVG/LTC': ['cryptopia'],\n",
       " 'XVG/USD': ['yobit'],\n",
       " 'XVG/USDT': ['bittrex', 'hitbtc2', 'cryptopia'],\n",
       " 'ZEC/BTC': ['kraken',\n",
       "  'poloniex',\n",
       "  'yobit',\n",
       "  'binance',\n",
       "  'okex',\n",
       "  'bittrex',\n",
       "  'exmo',\n",
       "  'hitbtc2',\n",
       "  'cryptopia'],\n",
       " 'ZEC/DOGE': ['yobit', 'cryptopia'],\n",
       " 'ZEC/ETH': ['poloniex', 'yobit', 'binance', 'okex', 'bittrex', 'hitbtc2'],\n",
       " 'ZEC/LTC': ['cryptopia'],\n",
       " 'ZEC/USD': ['kraken', 'yobit', 'exmo'],\n",
       " 'ZEC/USDT': ['poloniex', 'okex', 'bittrex', 'hitbtc2', 'cryptopia'],\n",
       " 'ZEC/XMR': ['poloniex']}"
      ]
     },
     "execution_count": 7,
     "metadata": {},
     "output_type": "execute_result"
    }
   ],
   "source": [
    "pairs"
   ]
  },
  {
   "cell_type": "code",
   "execution_count": 8,
   "metadata": {
    "ExecuteTime": {
     "end_time": "2018-07-22T20:21:33.664023Z",
     "start_time": "2018-07-22T20:21:33.656020Z"
    },
    "scrolled": true
   },
   "outputs": [],
   "source": [
    "exchanges = df_pairs.groupby(['exchange'])['pair'].apply(list).to_dict()"
   ]
  },
  {
   "cell_type": "code",
   "execution_count": 9,
   "metadata": {
    "ExecuteTime": {
     "end_time": "2018-07-22T20:21:33.673020Z",
     "start_time": "2018-07-22T20:21:33.665021Z"
    },
    "scrolled": false
   },
   "outputs": [
    {
     "data": {
      "text/plain": [
       "['BCH/BTC', 'BCH/ETH']"
      ]
     },
     "execution_count": 9,
     "metadata": {},
     "output_type": "execute_result"
    }
   ],
   "source": [
    "exchanges['hitbtc2'][3:5]"
   ]
  },
  {
   "cell_type": "code",
   "execution_count": 10,
   "metadata": {
    "ExecuteTime": {
     "end_time": "2018-07-22T20:21:33.682018Z",
     "start_time": "2018-07-22T20:21:33.674019Z"
    }
   },
   "outputs": [
    {
     "name": "stdout",
     "output_type": "stream",
     "text": [
      "['BCH/BTC', 'BCH/ETH', 'BCH/USD', 'BTC/USD', 'BTC/USDT', 'BTG/BTC', 'BTG/USD', 'DASH/BTC', 'DASH/USD', 'DOGE/BTC', 'EOS/BTC', 'EOS/USD', 'ETC/BTC', 'ETC/USD', 'ETH/BTC', 'ETH/LTC', 'ETH/USD', 'ETH/USDT', 'LTC/BTC', 'LTC/USD', 'USDT/USD', 'XLM/BTC', 'XLM/USD', 'XMR/BTC', 'XMR/USD', 'XRP/BTC', 'XRP/USD', 'ZEC/BTC', 'ZEC/USD']\n"
     ]
    }
   ],
   "source": [
    "print(exchanges['exmo'])"
   ]
  },
  {
   "cell_type": "markdown",
   "metadata": {},
   "source": [
    "# Fetch historic data from exchanges"
   ]
  },
  {
   "cell_type": "code",
   "execution_count": 11,
   "metadata": {
    "ExecuteTime": {
     "end_time": "2018-07-22T20:21:33.688019Z",
     "start_time": "2018-07-22T20:21:33.683021Z"
    }
   },
   "outputs": [
    {
     "data": {
      "text/plain": [
       "['kraken',\n",
       " 'poloniex',\n",
       " 'yobit',\n",
       " 'binance',\n",
       " 'okex',\n",
       " 'bittrex',\n",
       " 'exmo',\n",
       " 'hitbtc2',\n",
       " 'cryptopia']"
      ]
     },
     "execution_count": 11,
     "metadata": {},
     "output_type": "execute_result"
    }
   ],
   "source": [
    "exchanges = df_exchangs.id.tolist()\n",
    "exchanges"
   ]
  },
  {
   "cell_type": "code",
   "execution_count": 172,
   "metadata": {
    "ExecuteTime": {
     "end_time": "2018-07-22T21:48:47.488058Z",
     "start_time": "2018-07-22T21:48:28.677044Z"
    }
   },
   "outputs": [
    {
     "name": "stdout",
     "output_type": "stream",
     "text": [
      "poloniex No market symbol ETH/USD\n",
      "binance No market symbol ETH/USD\n",
      "hitbtc2 No market symbol ETH/USD\n",
      "cryptopia No market symbol ETH/USD\n"
     ]
    }
   ],
   "source": [
    "pair = \"ETH/USD\"\n",
    "pair_alt = \"ETH/USDT\" # alternative representation\n",
    "history = {}\n",
    "\n",
    "# loading pairs from exchanges\n",
    "for exchange in exchanges:\n",
    "    history[exchange] = markets.fetch_trades(exchange, pair, limit=100)\n",
    "    if history[exchange] == None:\n",
    "        history[exchange] = markets.fetch_trades(exchange, pair_alt, limit=100)\n",
    "    elif history[exchange] == None:\n",
    "        del(history[exchange])"
   ]
  },
  {
   "cell_type": "markdown",
   "metadata": {},
   "source": [
    "## Kraken and Cryptopia has no IDs so we need to generate them by ourselves:"
   ]
  },
  {
   "cell_type": "code",
   "execution_count": 173,
   "metadata": {
    "ExecuteTime": {
     "end_time": "2018-07-22T21:48:53.268024Z",
     "start_time": "2018-07-22T21:48:53.240052Z"
    },
    "scrolled": false
   },
   "outputs": [
    {
     "name": "stdout",
     "output_type": "stream",
     "text": [
      "{'binance': '28856849',\n",
      " 'bittrex': '1408060',\n",
      " 'cryptopia': None,\n",
      " 'exmo': '65012105',\n",
      " 'hitbtc2': '335014018',\n",
      " 'kraken': None,\n",
      " 'okex': '1150815922193419',\n",
      " 'poloniex': '10123268',\n",
      " 'yobit': '201211101'}\n"
     ]
    }
   ],
   "source": [
    "infos = {}\n",
    "for ex in exchanges:\n",
    "    infos[ex] = history[ex][0]['id']\n",
    "    \n",
    "pprint(infos)"
   ]
  },
  {
   "cell_type": "markdown",
   "metadata": {},
   "source": [
    "## Check whether an Exchange have full info on transaction side and type"
   ]
  },
  {
   "cell_type": "code",
   "execution_count": 174,
   "metadata": {
    "ExecuteTime": {
     "end_time": "2018-07-22T21:48:57.699026Z",
     "start_time": "2018-07-22T21:48:57.263026Z"
    },
    "scrolled": false
   },
   "outputs": [
    {
     "name": "stdout",
     "output_type": "stream",
     "text": [
      "\n",
      "============\n",
      "  kraken\n",
      "============\n",
      "{'amount': 0.06050148,\n",
      " 'cost': 28.0315457136,\n",
      " 'datetime': '2018-07-22T19:57:02.139Z',\n",
      " 'fee': None,\n",
      " 'id': None,\n",
      " 'info': ['463.32000', '0.06050148', 1532289422.139, 'b', 'l', ''],\n",
      " 'order': None,\n",
      " 'price': 463.32,\n",
      " 'side': 'buy',\n",
      " 'symbol': 'ETH/USD',\n",
      " 'timestamp': 1532289422139,\n",
      " 'type': 'limit'}\n",
      "\n",
      "============\n",
      "  poloniex\n",
      "============\n",
      "{'amount': 0.50178427,\n",
      " 'cost': 233.85687475,\n",
      " 'datetime': '2018-07-22T20:38:44.000Z',\n",
      " 'fee': None,\n",
      " 'id': '10123268',\n",
      " 'info': {'amount': '0.50178427',\n",
      "          'date': '2018-07-22 20:38:44',\n",
      "          'globalTradeID': 383626542,\n",
      "          'rate': '466.05062920',\n",
      "          'total': '233.85687475',\n",
      "          'tradeID': 10123268,\n",
      "          'type': 'sell'},\n",
      " 'order': None,\n",
      " 'price': 466.0506292,\n",
      " 'side': 'sell',\n",
      " 'symbol': 'ETH/USDT',\n",
      " 'timestamp': 1532291924000,\n",
      " 'type': 'limit'}\n",
      "\n",
      "============\n",
      "  yobit\n",
      "============\n",
      "{'amount': 0.02420813,\n",
      " 'datetime': '2018-07-22T20:03:39.000Z',\n",
      " 'fee': {'cost': 0.022375898829684,\n",
      "         'currency': 'USD',\n",
      "         'rate': 0.002,\n",
      "         'type': 'taker'},\n",
      " 'id': '201211101',\n",
      " 'info': {'amount': 0.02420813,\n",
      "          'price': 462.1210002,\n",
      "          'tid': 201211101,\n",
      "          'timestamp': 1532289819,\n",
      "          'type': 'ask'},\n",
      " 'order': None,\n",
      " 'price': 462.1210002,\n",
      " 'side': 'sell',\n",
      " 'symbol': 'ETH/USD',\n",
      " 'timestamp': 1532289819000,\n",
      " 'type': 'limit'}\n",
      "\n",
      "============\n",
      "  binance\n",
      "============\n",
      "{'amount': 0.0494,\n",
      " 'cost': 22.631622,\n",
      " 'datetime': '2018-07-22T21:46:35.783Z',\n",
      " 'fee': None,\n",
      " 'id': '28856849',\n",
      " 'info': {'M': True,\n",
      "          'T': 1532295995783,\n",
      "          'a': 28856849,\n",
      "          'f': 32290562,\n",
      "          'l': 32290562,\n",
      "          'm': False,\n",
      "          'p': '458.13000000',\n",
      "          'q': '0.04940000'},\n",
      " 'order': None,\n",
      " 'price': 458.13,\n",
      " 'side': 'buy',\n",
      " 'symbol': 'ETH/USDT',\n",
      " 'takerOrMaker': None,\n",
      " 'timestamp': 1532295995783,\n",
      " 'type': None}\n",
      "\n",
      "============\n",
      "  okex\n",
      "============\n",
      "{'amount': 400.0,\n",
      " 'datetime': '2018-07-22T21:47:37.424Z',\n",
      " 'id': '1150815922193419',\n",
      " 'info': {'amount': 400,\n",
      "          'date': 1532296057,\n",
      "          'date_ms': 1532296057424,\n",
      "          'price': 458.244,\n",
      "          'tid': 1150815922193419,\n",
      "          'type': 'buy'},\n",
      " 'order': None,\n",
      " 'price': 458.244,\n",
      " 'side': 'buy',\n",
      " 'symbol': 'ETH/USD',\n",
      " 'timestamp': 1532296057424,\n",
      " 'type': None}\n",
      "\n",
      "============\n",
      "  bittrex\n",
      "============\n",
      "{'amount': 0.00577001,\n",
      " 'datetime': '2018-07-20T02:49:04.643Z',\n",
      " 'id': '1408060',\n",
      " 'info': {'FillType': 'PARTIAL_FILL',\n",
      "          'Id': 1408060,\n",
      "          'OrderType': 'BUY',\n",
      "          'Price': 465.527,\n",
      "          'Quantity': 0.00577001,\n",
      "          'TimeStamp': '2018-07-20T02:49:04.643',\n",
      "          'Total': 2.68609544},\n",
      " 'price': 465.527,\n",
      " 'side': 'buy',\n",
      " 'symbol': 'ETH/USD',\n",
      " 'timestamp': 1532054944643,\n",
      " 'type': 'limit'}\n",
      "\n",
      "============\n",
      "  exmo\n",
      "============\n",
      "{'amount': 0.03807262,\n",
      " 'cost': 17.39918734,\n",
      " 'datetime': '2018-07-22T21:27:15.000Z',\n",
      " 'id': '65012105',\n",
      " 'info': {'amount': '17.39918734',\n",
      "          'date': 1532294835,\n",
      "          'price': '457',\n",
      "          'quantity': '0.03807262',\n",
      "          'trade_id': 65012105,\n",
      "          'type': 'sell'},\n",
      " 'order': None,\n",
      " 'price': 457.0,\n",
      " 'side': 'sell',\n",
      " 'symbol': 'ETH/USD',\n",
      " 'timestamp': 1532294835000,\n",
      " 'type': None}\n",
      "\n",
      "============\n",
      "  hitbtc2\n",
      "============\n",
      "{'amount': 0.324,\n",
      " 'cost': 149.20848,\n",
      " 'datetime': '2018-07-22T21:43:05.122Z',\n",
      " 'fee': None,\n",
      " 'id': '335014018',\n",
      " 'info': {'id': 335014018,\n",
      "          'price': '460.52',\n",
      "          'quantity': '0.324',\n",
      "          'side': 'sell',\n",
      "          'timestamp': '2018-07-22T21:43:05.122Z'},\n",
      " 'order': None,\n",
      " 'price': 460.52,\n",
      " 'side': 'sell',\n",
      " 'symbol': 'ETH/USDT',\n",
      " 'timestamp': 1532295785122,\n",
      " 'type': None}\n",
      "\n",
      "============\n",
      "  cryptopia\n",
      "============\n",
      "{'amount': 0.0500114,\n",
      " 'cost': 23.14177512,\n",
      " 'datetime': '2018-07-21T22:33:32.000Z',\n",
      " 'fee': None,\n",
      " 'id': None,\n",
      " 'info': {'Amount': 0.0500114,\n",
      "          'Label': 'ETH/USDT',\n",
      "          'Price': 462.73,\n",
      "          'Timestamp': 1532212412,\n",
      "          'Total': 23.14177512,\n",
      "          'TradePairId': 5207,\n",
      "          'Type': 'Sell'},\n",
      " 'order': None,\n",
      " 'price': 462.73,\n",
      " 'side': 'sell',\n",
      " 'symbol': 'ETH/USDT',\n",
      " 'timestamp': 1532212412000,\n",
      " 'type': 'limit'}\n"
     ]
    }
   ],
   "source": [
    "for ex in exchanges:\n",
    "    print(\"\\n============\\n  \" + ex + \"\\n============\")\n",
    "    pprint(history[ex][0])"
   ]
  },
  {
   "cell_type": "markdown",
   "metadata": {},
   "source": [
    "## Compare prices"
   ]
  },
  {
   "cell_type": "code",
   "execution_count": 180,
   "metadata": {
    "ExecuteTime": {
     "end_time": "2018-07-22T21:51:35.895021Z",
     "start_time": "2018-07-22T21:51:35.893019Z"
    }
   },
   "outputs": [],
   "source": [
    "prices = [{'exchange':ex, 'price':history[ex][-1]['price']} for ex in exchanges]"
   ]
  },
  {
   "cell_type": "code",
   "execution_count": 181,
   "metadata": {
    "ExecuteTime": {
     "end_time": "2018-07-22T21:51:36.492036Z",
     "start_time": "2018-07-22T21:51:36.484019Z"
    }
   },
   "outputs": [
    {
     "data": {
      "text/html": [
       "<div>\n",
       "<style scoped>\n",
       "    .dataframe tbody tr th:only-of-type {\n",
       "        vertical-align: middle;\n",
       "    }\n",
       "\n",
       "    .dataframe tbody tr th {\n",
       "        vertical-align: top;\n",
       "    }\n",
       "\n",
       "    .dataframe thead th {\n",
       "        text-align: right;\n",
       "    }\n",
       "</style>\n",
       "<table border=\"1\" class=\"dataframe\">\n",
       "  <thead>\n",
       "    <tr style=\"text-align: right;\">\n",
       "      <th></th>\n",
       "      <th>exchange</th>\n",
       "      <th>price</th>\n",
       "    </tr>\n",
       "  </thead>\n",
       "  <tbody>\n",
       "    <tr>\n",
       "      <th>0</th>\n",
       "      <td>kraken</td>\n",
       "      <td>463.760000</td>\n",
       "    </tr>\n",
       "    <tr>\n",
       "      <th>1</th>\n",
       "      <td>poloniex</td>\n",
       "      <td>459.297498</td>\n",
       "    </tr>\n",
       "    <tr>\n",
       "      <th>2</th>\n",
       "      <td>yobit</td>\n",
       "      <td>461.109978</td>\n",
       "    </tr>\n",
       "    <tr>\n",
       "      <th>3</th>\n",
       "      <td>binance</td>\n",
       "      <td>457.520000</td>\n",
       "    </tr>\n",
       "    <tr>\n",
       "      <th>4</th>\n",
       "      <td>okex</td>\n",
       "      <td>458.006000</td>\n",
       "    </tr>\n",
       "    <tr>\n",
       "      <th>5</th>\n",
       "      <td>bittrex</td>\n",
       "      <td>466.787000</td>\n",
       "    </tr>\n",
       "    <tr>\n",
       "      <th>6</th>\n",
       "      <td>exmo</td>\n",
       "      <td>459.392000</td>\n",
       "    </tr>\n",
       "    <tr>\n",
       "      <th>7</th>\n",
       "      <td>hitbtc2</td>\n",
       "      <td>459.120000</td>\n",
       "    </tr>\n",
       "    <tr>\n",
       "      <th>8</th>\n",
       "      <td>cryptopia</td>\n",
       "      <td>466.854417</td>\n",
       "    </tr>\n",
       "  </tbody>\n",
       "</table>\n",
       "</div>"
      ],
      "text/plain": [
       "    exchange       price\n",
       "0     kraken  463.760000\n",
       "1   poloniex  459.297498\n",
       "2      yobit  461.109978\n",
       "3    binance  457.520000\n",
       "4       okex  458.006000\n",
       "5    bittrex  466.787000\n",
       "6       exmo  459.392000\n",
       "7    hitbtc2  459.120000\n",
       "8  cryptopia  466.854417"
      ]
     },
     "execution_count": 181,
     "metadata": {},
     "output_type": "execute_result"
    }
   ],
   "source": [
    "df = pd.DataFrame(prices)\n",
    "df"
   ]
  },
  {
   "cell_type": "code",
   "execution_count": 182,
   "metadata": {
    "ExecuteTime": {
     "end_time": "2018-07-22T21:51:48.508024Z",
     "start_time": "2018-07-22T21:51:48.502051Z"
    }
   },
   "outputs": [
    {
     "data": {
      "text/html": [
       "<div>\n",
       "<style scoped>\n",
       "    .dataframe tbody tr th:only-of-type {\n",
       "        vertical-align: middle;\n",
       "    }\n",
       "\n",
       "    .dataframe tbody tr th {\n",
       "        vertical-align: top;\n",
       "    }\n",
       "\n",
       "    .dataframe thead th {\n",
       "        text-align: right;\n",
       "    }\n",
       "</style>\n",
       "<table border=\"1\" class=\"dataframe\">\n",
       "  <thead>\n",
       "    <tr style=\"text-align: right;\">\n",
       "      <th></th>\n",
       "      <th>exchange</th>\n",
       "      <th>price</th>\n",
       "    </tr>\n",
       "  </thead>\n",
       "  <tbody>\n",
       "    <tr>\n",
       "      <th>3</th>\n",
       "      <td>binance</td>\n",
       "      <td>457.520000</td>\n",
       "    </tr>\n",
       "    <tr>\n",
       "      <th>8</th>\n",
       "      <td>cryptopia</td>\n",
       "      <td>466.854417</td>\n",
       "    </tr>\n",
       "  </tbody>\n",
       "</table>\n",
       "</div>"
      ],
      "text/plain": [
       "    exchange       price\n",
       "3    binance  457.520000\n",
       "8  cryptopia  466.854417"
      ]
     },
     "execution_count": 182,
     "metadata": {},
     "output_type": "execute_result"
    }
   ],
   "source": [
    "# maximum spread\n",
    "df_minmax = df.iloc[[df.price.idxmin(),df.price.idxmax()]]\n",
    "df_minmax"
   ]
  },
  {
   "cell_type": "code",
   "execution_count": 191,
   "metadata": {
    "ExecuteTime": {
     "end_time": "2018-07-22T21:55:42.342044Z",
     "start_time": "2018-07-22T21:55:42.337021Z"
    }
   },
   "outputs": [
    {
     "name": "stdout",
     "output_type": "stream",
     "text": [
      "Difference between min and max = 9.33441732 USD or 2.04%\n"
     ]
    }
   ],
   "source": [
    "# calculate diff and percentage\n",
    "print(f\"Difference between min and max = \"\n",
    "      f\"{df_minmax.iloc[1].price - df_minmax.iloc[0].price} {pair.split('/')[1]}\"\n",
    "      f\" or {round((df_minmax.iloc[1].price / df_minmax.iloc[0].price - 1)*100, 2)}%\")"
   ]
  },
  {
   "cell_type": "code",
   "execution_count": null,
   "metadata": {},
   "outputs": [],
   "source": []
  }
 ],
 "metadata": {
  "hide_input": false,
  "kernelspec": {
   "display_name": "Python 3",
   "language": "python",
   "name": "python3"
  },
  "language_info": {
   "codemirror_mode": {
    "name": "ipython",
    "version": 3
   },
   "file_extension": ".py",
   "mimetype": "text/x-python",
   "name": "python",
   "nbconvert_exporter": "python",
   "pygments_lexer": "ipython3",
   "version": "3.6.5"
  }
 },
 "nbformat": 4,
 "nbformat_minor": 2
}
